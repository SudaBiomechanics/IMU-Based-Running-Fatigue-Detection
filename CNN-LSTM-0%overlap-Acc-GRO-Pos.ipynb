{
 "cells": [
  {
   "cell_type": "markdown",
   "metadata": {},
   "source": [
    "# CNN-LSTM自己"
   ]
  },
  {
   "cell_type": "code",
   "execution_count": 1,
   "metadata": {},
   "outputs": [],
   "source": [
    "import tensorflow.compat.v1  as tf\n",
    "import numpy as np\n",
    "import os,sys\n",
    "tf.compat.v1.disable_eager_execution()\n",
    "import scipy.io as scio"
   ]
  },
  {
   "cell_type": "code",
   "execution_count": 2,
   "metadata": {},
   "outputs": [
    {
     "name": "stdout",
     "output_type": "stream",
     "text": [
      "(17174, 200, 9)\n",
      "(17174, 1)\n"
     ]
    }
   ],
   "source": [
    "X_train_mat = scio.loadmat('X_train-3Classes-0%overlap.mat')\n",
    "key_name = list(X_train_mat.keys())[-1]\n",
    "X_train=X_train_mat[key_name]\n",
    "print(X_train.shape)\n",
    "\n",
    "Y_train_mat = scio.loadmat('Y_train-3Classes-0%overlap.mat')\n",
    "key_name = list(Y_train_mat.keys())[-1]\n",
    "Y_train=Y_train_mat[key_name]\n",
    "print(Y_train.shape)"
   ]
  },
  {
   "cell_type": "code",
   "execution_count": 3,
   "metadata": {},
   "outputs": [
    {
     "name": "stdout",
     "output_type": "stream",
     "text": [
      "(17174, 200, 9)\n",
      "(17174, 1)\n"
     ]
    }
   ],
   "source": [
    "#只取前列数据\n",
    "X_train=X_train[:,:,0:9]#只取前\n",
    "print(X_train.shape)\n",
    "print(Y_train.shape)"
   ]
  },
  {
   "cell_type": "code",
   "execution_count": 4,
   "metadata": {},
   "outputs": [
    {
     "name": "stdout",
     "output_type": "stream",
     "text": [
      "(15456, 200, 9)\n",
      "(15456, 1)\n",
      "(1718, 200, 9)\n",
      "(1718, 1)\n"
     ]
    }
   ],
   "source": [
    "from sklearn.model_selection import train_test_split\n",
    "X_train, X_test, Y_train, Y_test = train_test_split(X_train, Y_train, test_size = 0.1, random_state = 0)\n",
    "#X_test, X_valid, Y_test, Y_valid = train_test_split(X_test, Y_test, test_size = 0.5, random_state = 0)\n",
    "print(X_train.shape)\n",
    "print(Y_train.shape)\n",
    "print(X_test.shape)\n",
    "print(Y_test.shape)"
   ]
  },
  {
   "cell_type": "code",
   "execution_count": 5,
   "metadata": {},
   "outputs": [
    {
     "name": "stdout",
     "output_type": "stream",
     "text": [
      "WARNING:tensorflow:From D:\\Anaconda3\\envs\\tensorflow1\\lib\\site-packages\\tensorflow\\python\\compat\\v2_compat.py:96: disable_resource_variables (from tensorflow.python.ops.variable_scope) is deprecated and will be removed in a future version.\n",
      "Instructions for updating:\n",
      "non-resource variables are not supported in the long term\n"
     ]
    }
   ],
   "source": [
    "np.random.seed(42)\n",
    "import tensorflow.compat.v1 as tf\n",
    "tf.disable_v2_behavior()\n",
    "tf.set_random_seed(42)\n",
    "# Configuring a session\n",
    "session_conf = tf.ConfigProto(\n",
    "    intra_op_parallelism_threads=1,\n",
    "    inter_op_parallelism_threads=1\n",
    ")"
   ]
  },
  {
   "cell_type": "code",
   "execution_count": 6,
   "metadata": {},
   "outputs": [],
   "source": [
    "# Import Keras\n",
    "from __future__ import print_function\n",
    "import keras\n",
    "from keras import regularizers,Input\n",
    "from keras.models import Sequential\n",
    "from keras.layers import Dense, Dropout,Flatten, Reshape, Softmax,concatenate\n",
    "from keras.layers import Conv2D, MaxPooling2D, Conv1D, MaxPooling1D, TimeDistributed,LSTM,Bidirectional,BatchNormalization\n",
    "from keras.models import Model\n",
    "#from keras import backend as K\n",
    "from tensorflow.compat.v1.keras import backend as K\n",
    "sess = tf.Session(graph=tf.get_default_graph(), config=session_conf)\n",
    "K.set_session(sess)\n",
    "\n",
    "# callbacks:\n",
    "from keras.callbacks import ModelCheckpoint\n",
    "from keras.callbacks import TensorBoard\n",
    "from keras.callbacks import EarlyStopping\n",
    "from keras.callbacks import ReduceLROnPlateau"
   ]
  },
  {
   "cell_type": "code",
   "execution_count": 7,
   "metadata": {},
   "outputs": [],
   "source": [
    "# Utility function to count the number of classes\n",
    "def _count_classes(y):\n",
    "    return len(set([tuple(category) for category in y]))"
   ]
  },
  {
   "cell_type": "code",
   "execution_count": 8,
   "metadata": {},
   "outputs": [
    {
     "name": "stdout",
     "output_type": "stream",
     "text": [
      "200 9 15456\n",
      "3\n"
     ]
    }
   ],
   "source": [
    "# Initializing parameters\n",
    "epochs = 200\n",
    "batch_size = 256\n",
    "timesteps = 200\n",
    "input_dim = len(X_train[0][0])\n",
    "n_classes = _count_classes(Y_train)\n",
    "#input_shape = (timesteps, input_dim)\n",
    "\n",
    "print(timesteps,input_dim,len(X_train))\n",
    "print(n_classes)"
   ]
  },
  {
   "cell_type": "markdown",
   "metadata": {},
   "source": [
    "**LSTM Model**"
   ]
  },
  {
   "cell_type": "code",
   "execution_count": 9,
   "metadata": {},
   "outputs": [],
   "source": [
    "def get_model():\n",
    "    inp=Input(shape=(200,9))\n",
    "\n",
    "    #CNN model\n",
    "    reshape=Reshape((200,9,1))(inp)\n",
    "    conv1=Conv2D(32,(18,1),activation='relu',strides=(2,1),padding='SAME',input_shape=(200,9,1))(reshape)\n",
    "    maxp1=MaxPooling2D(pool_size=(2, 1))(conv1)\n",
    "    conv2=Conv2D(64, (9, 1), activation='relu',padding='SAME')(maxp1)\n",
    "    conv3=Conv2D(128, (3, 1), activation='relu',padding='SAME')(conv2)\n",
    "    maxp3=MaxPooling2D(pool_size=(2, 1))(conv3)\n",
    "    conv4=Conv2D(128, (1, 9), activation='relu', padding='VALID')(maxp3)\n",
    "    cnn_out=Flatten()(conv4)\n",
    "\n",
    "\n",
    "    #LSTM model\n",
    "    lstm1=LSTM(128, return_sequences=True, input_shape=(timesteps, input_dim), kernel_initializer='glorot_normal')(inp)\n",
    "    # Adding a dropout layer\n",
    "    #model2.add(Dropout(0.25))\n",
    "    batch1=BatchNormalization()(lstm1)\n",
    "    lstm2=LSTM(64)(batch1)\n",
    "    # Adding a dropout layer\n",
    "    lstm_out=Dropout(0.5)(lstm2)\n",
    "\n",
    "    m2=concatenate([cnn_out,lstm_out],axis=1)\n",
    "\n",
    "    m2_out=Dense(n_classes, activation='softmax',kernel_regularizer=regularizers.l2(0.01),\n",
    "                    activity_regularizer=regularizers.l1(0.01))(m2)\n",
    "    model=Model(inputs=inp,outputs=m2_out)\n",
    "    model.summary()\n",
    "    return model"
   ]
  },
  {
   "cell_type": "code",
   "execution_count": 10,
   "metadata": {},
   "outputs": [
    {
     "name": "stdout",
     "output_type": "stream",
     "text": [
      "Model: \"functional_1\"\n",
      "__________________________________________________________________________________________________\n",
      "Layer (type)                    Output Shape         Param #     Connected to                     \n",
      "==================================================================================================\n",
      "input_1 (InputLayer)            [(None, 200, 9)]     0                                            \n",
      "__________________________________________________________________________________________________\n",
      "reshape (Reshape)               (None, 200, 9, 1)    0           input_1[0][0]                    \n",
      "__________________________________________________________________________________________________\n",
      "conv2d (Conv2D)                 (None, 100, 9, 32)   608         reshape[0][0]                    \n",
      "__________________________________________________________________________________________________\n",
      "max_pooling2d (MaxPooling2D)    (None, 50, 9, 32)    0           conv2d[0][0]                     \n",
      "__________________________________________________________________________________________________\n",
      "conv2d_1 (Conv2D)               (None, 50, 9, 64)    18496       max_pooling2d[0][0]              \n",
      "__________________________________________________________________________________________________\n",
      "conv2d_2 (Conv2D)               (None, 50, 9, 128)   24704       conv2d_1[0][0]                   \n",
      "__________________________________________________________________________________________________\n",
      "lstm (LSTM)                     (None, 200, 128)     70656       input_1[0][0]                    \n",
      "__________________________________________________________________________________________________\n",
      "max_pooling2d_1 (MaxPooling2D)  (None, 25, 9, 128)   0           conv2d_2[0][0]                   \n",
      "__________________________________________________________________________________________________\n",
      "batch_normalization (BatchNorma (None, 200, 128)     512         lstm[0][0]                       \n",
      "__________________________________________________________________________________________________\n",
      "conv2d_3 (Conv2D)               (None, 25, 1, 128)   147584      max_pooling2d_1[0][0]            \n",
      "__________________________________________________________________________________________________\n",
      "lstm_1 (LSTM)                   (None, 64)           49408       batch_normalization[0][0]        \n",
      "__________________________________________________________________________________________________\n",
      "flatten (Flatten)               (None, 3200)         0           conv2d_3[0][0]                   \n",
      "__________________________________________________________________________________________________\n",
      "dropout (Dropout)               (None, 64)           0           lstm_1[0][0]                     \n",
      "__________________________________________________________________________________________________\n",
      "concatenate (Concatenate)       (None, 3264)         0           flatten[0][0]                    \n",
      "                                                                 dropout[0][0]                    \n",
      "__________________________________________________________________________________________________\n",
      "dense (Dense)                   (None, 3)            9795        concatenate[0][0]                \n",
      "==================================================================================================\n",
      "Total params: 321,763\n",
      "Trainable params: 321,507\n",
      "Non-trainable params: 256\n",
      "__________________________________________________________________________________________________\n"
     ]
    }
   ],
   "source": [
    "\n",
    "#-------------------\n",
    "# Compiling the model\n",
    "model=get_model()\n",
    "model.compile(loss='sparse_categorical_crossentropy',\n",
    "              optimizer='rmsprop',\n",
    "              metrics=['accuracy'])\n",
    "\n",
    "filepath=\"M2-weights-improvement-{epoch:02d}-{val_acc:.2f}.hdf5\"\n",
    "\n",
    "mc = ModelCheckpoint(filepath, monitor='val_acc', verbose=1, save_best_only=True, mode='max')\n",
    "\n",
    "tb = TensorBoard(log_dir='./logs',  # log 目录\n",
    "                 histogram_freq=1,  # 按照何等频率（epoch）来计算直方图，0为不计算\n",
    "                 batch_size=64,     # 用多大量的数据计算直方图\n",
    "                 write_graph=True,  # 是否存储网络结构图\n",
    "                 write_grads=True, # 是否可视化梯度直方图\n",
    "                 write_images=True,# 是否可视化参数\n",
    "                 embeddings_freq=0,\n",
    "                 embeddings_layer_names=None,\n",
    "                 embeddings_metadata=None)\n",
    "\n",
    "es=EarlyStopping(monitor='val_acc', patience=16, verbose=2)\n",
    "rp=ReduceLROnPlateau(\n",
    "    monitor='val_acc',\n",
    "    factor=0.25,\n",
    "    patience=10,#多少epoch，如果monitor内容没有效果就earlystop\n",
    "    verbose=2,\n",
    "    mode='auto',\n",
    "    min_delta=0.0001,\n",
    "    cooldown=0,\n",
    "    min_lr=0\n",
    ")\n",
    "\n",
    "# callbacks_list = [mc,tb,es,rp]\n",
    "callbacks_list = [mc,es,rp]"
   ]
  },
  {
   "cell_type": "code",
   "execution_count": 11,
   "metadata": {
    "scrolled": false
   },
   "outputs": [
    {
     "name": "stdout",
     "output_type": "stream",
     "text": [
      "Train on 13910 samples, validate on 1546 samples\n",
      "Epoch 1/200\n",
      "13910/13910 [==============================] - ETA: 0s - loss: 5.1512 - acc: 0.4362WARNING:tensorflow:From D:\\Anaconda3\\envs\\tensorflow1\\lib\\site-packages\\tensorflow\\python\\keras\\engine\\training_v1.py:2048: Model.state_updates (from tensorflow.python.keras.engine.training) is deprecated and will be removed in a future version.\n",
      "Instructions for updating:\n",
      "This property should not be used in TensorFlow 2.0, as updates are applied automatically.\n",
      "\n",
      "Epoch 00001: val_acc improved from -inf to 0.63389, saving model to M2-weights-improvement-01-0.63.hdf5\n",
      "13910/13910 [==============================] - 216s 16ms/sample - loss: 5.1512 - acc: 0.4362 - val_loss: 1.0207 - val_acc: 0.6339\n",
      "Epoch 2/200\n",
      "13910/13910 [==============================] - ETA: 0s - loss: 0.7688 - acc: 0.7096\n",
      "Epoch 00002: val_acc improved from 0.63389 to 0.71928, saving model to M2-weights-improvement-02-0.72.hdf5\n",
      "13910/13910 [==============================] - 256s 18ms/sample - loss: 0.7688 - acc: 0.7096 - val_loss: 0.6970 - val_acc: 0.7193\n",
      "Epoch 3/200\n",
      "13910/13910 [==============================] - ETA: 0s - loss: 0.5127 - acc: 0.8132\n",
      "Epoch 00003: val_acc did not improve from 0.71928\n",
      "13910/13910 [==============================] - 253s 18ms/sample - loss: 0.5127 - acc: 0.8132 - val_loss: 0.8763 - val_acc: 0.7186\n",
      "Epoch 4/200\n",
      "13910/13910 [==============================] - ETA: 0s - loss: 0.3915 - acc: 0.8671\n",
      "Epoch 00004: val_acc improved from 0.71928 to 0.79948, saving model to M2-weights-improvement-04-0.80.hdf5\n",
      "13910/13910 [==============================] - 257s 19ms/sample - loss: 0.3915 - acc: 0.8671 - val_loss: 0.6965 - val_acc: 0.7995\n",
      "Epoch 5/200\n",
      "13910/13910 [==============================] - ETA: 0s - loss: 0.3176 - acc: 0.8949\n",
      "Epoch 00005: val_acc improved from 0.79948 to 0.92885, saving model to M2-weights-improvement-05-0.93.hdf5\n",
      "13910/13910 [==============================] - 251s 18ms/sample - loss: 0.3176 - acc: 0.8949 - val_loss: 0.2509 - val_acc: 0.9288\n",
      "Epoch 6/200\n",
      "13910/13910 [==============================] - ETA: 0s - loss: 0.2396 - acc: 0.9286\n",
      "Epoch 00006: val_acc did not improve from 0.92885\n",
      "13910/13910 [==============================] - 251s 18ms/sample - loss: 0.2396 - acc: 0.9286 - val_loss: 0.3005 - val_acc: 0.9036\n",
      "Epoch 7/200\n",
      "13910/13910 [==============================] - ETA: 0s - loss: 0.2223 - acc: 0.9332\n",
      "Epoch 00007: val_acc improved from 0.92885 to 0.94308, saving model to M2-weights-improvement-07-0.94.hdf5\n",
      "13910/13910 [==============================] - 263s 19ms/sample - loss: 0.2223 - acc: 0.9332 - val_loss: 0.2052 - val_acc: 0.9431\n",
      "Epoch 8/200\n",
      "13910/13910 [==============================] - ETA: 0s - loss: 0.1822 - acc: 0.9481\n",
      "Epoch 00008: val_acc did not improve from 0.94308\n",
      "13910/13910 [==============================] - 255s 18ms/sample - loss: 0.1822 - acc: 0.9481 - val_loss: 0.2145 - val_acc: 0.9353\n",
      "Epoch 9/200\n",
      "13910/13910 [==============================] - ETA: 0s - loss: 0.1480 - acc: 0.9625\n",
      "Epoch 00009: val_acc improved from 0.94308 to 0.96054, saving model to M2-weights-improvement-09-0.96.hdf5\n",
      "13910/13910 [==============================] - 277s 20ms/sample - loss: 0.1480 - acc: 0.9625 - val_loss: 0.1633 - val_acc: 0.9605\n",
      "Epoch 10/200\n",
      "13910/13910 [==============================] - ETA: 0s - loss: 0.1265 - acc: 0.9701\n",
      "Epoch 00010: val_acc did not improve from 0.96054\n",
      "13910/13910 [==============================] - 245s 18ms/sample - loss: 0.1265 - acc: 0.9701 - val_loss: 0.1658 - val_acc: 0.9573\n",
      "Epoch 11/200\n",
      "13910/13910 [==============================] - ETA: 0s - loss: 0.1208 - acc: 0.9718\n",
      "Epoch 00011: val_acc did not improve from 0.96054\n",
      "13910/13910 [==============================] - 230s 17ms/sample - loss: 0.1208 - acc: 0.9718 - val_loss: 0.4131 - val_acc: 0.8920\n",
      "Epoch 12/200\n",
      "13910/13910 [==============================] - ETA: 0s - loss: 0.1057 - acc: 0.9769\n",
      "Epoch 00012: val_acc did not improve from 0.96054\n",
      "13910/13910 [==============================] - 238s 17ms/sample - loss: 0.1057 - acc: 0.9769 - val_loss: 0.8015 - val_acc: 0.8389\n",
      "Epoch 13/200\n",
      "13910/13910 [==============================] - ETA: 0s - loss: 0.1003 - acc: 0.9799\n",
      "Epoch 00013: val_acc did not improve from 0.96054\n",
      "13910/13910 [==============================] - 229s 16ms/sample - loss: 0.1003 - acc: 0.9799 - val_loss: 0.2435 - val_acc: 0.9340\n",
      "Epoch 14/200\n",
      "13910/13910 [==============================] - ETA: 0s - loss: 0.0966 - acc: 0.9785\n",
      "Epoch 00014: val_acc improved from 0.96054 to 0.97089, saving model to M2-weights-improvement-14-0.97.hdf5\n",
      "13910/13910 [==============================] - 230s 17ms/sample - loss: 0.0966 - acc: 0.9785 - val_loss: 0.1337 - val_acc: 0.9709\n",
      "Epoch 15/200\n",
      "13910/13910 [==============================] - ETA: 0s - loss: 0.0844 - acc: 0.9838\n",
      "Epoch 00015: val_acc did not improve from 0.97089\n",
      "13910/13910 [==============================] - 231s 17ms/sample - loss: 0.0844 - acc: 0.9838 - val_loss: 0.1464 - val_acc: 0.9677\n",
      "Epoch 16/200\n",
      "13910/13910 [==============================] - ETA: 0s - loss: 0.0886 - acc: 0.9824\n",
      "Epoch 00016: val_acc improved from 0.97089 to 0.97477, saving model to M2-weights-improvement-16-0.97.hdf5\n",
      "13910/13910 [==============================] - 239s 17ms/sample - loss: 0.0886 - acc: 0.9824 - val_loss: 0.1193 - val_acc: 0.9748\n",
      "Epoch 17/200\n",
      "13910/13910 [==============================] - ETA: 0s - loss: 0.0689 - acc: 0.9889\n",
      "Epoch 00017: val_acc did not improve from 0.97477\n",
      "13910/13910 [==============================] - 230s 17ms/sample - loss: 0.0689 - acc: 0.9889 - val_loss: 0.2812 - val_acc: 0.9405\n",
      "Epoch 18/200\n",
      "13910/13910 [==============================] - ETA: 0s - loss: 0.0787 - acc: 0.9841\n",
      "Epoch 00018: val_acc did not improve from 0.97477\n",
      "13910/13910 [==============================] - 226s 16ms/sample - loss: 0.0787 - acc: 0.9841 - val_loss: 0.1870 - val_acc: 0.9560\n",
      "Epoch 19/200\n",
      "13910/13910 [==============================] - ETA: 0s - loss: 0.0664 - acc: 0.9879\n",
      "Epoch 00019: val_acc did not improve from 0.97477\n",
      "13910/13910 [==============================] - 227s 16ms/sample - loss: 0.0664 - acc: 0.9879 - val_loss: 0.1562 - val_acc: 0.9677\n",
      "Epoch 20/200\n",
      "13910/13910 [==============================] - ETA: 0s - loss: 0.0623 - acc: 0.9897\n",
      "Epoch 00020: val_acc improved from 0.97477 to 0.97607, saving model to M2-weights-improvement-20-0.98.hdf5\n",
      "13910/13910 [==============================] - 222s 16ms/sample - loss: 0.0623 - acc: 0.9897 - val_loss: 0.1227 - val_acc: 0.9761\n",
      "Epoch 21/200\n",
      "13910/13910 [==============================] - ETA: 0s - loss: 0.0636 - acc: 0.9894\n",
      "Epoch 00021: val_acc improved from 0.97607 to 0.97736, saving model to M2-weights-improvement-21-0.98.hdf5\n",
      "13910/13910 [==============================] - 176s 13ms/sample - loss: 0.0636 - acc: 0.9894 - val_loss: 0.1245 - val_acc: 0.9774\n",
      "Epoch 22/200\n",
      "13910/13910 [==============================] - ETA: 0s - loss: 0.0672 - acc: 0.9870\n",
      "Epoch 00022: val_acc did not improve from 0.97736\n",
      "13910/13910 [==============================] - 175s 13ms/sample - loss: 0.0672 - acc: 0.9870 - val_loss: 0.1360 - val_acc: 0.9722\n",
      "Epoch 23/200\n",
      "13910/13910 [==============================] - ETA: 0s - loss: 0.0606 - acc: 0.9901\n",
      "Epoch 00023: val_acc did not improve from 0.97736\n",
      "13910/13910 [==============================] - 176s 13ms/sample - loss: 0.0606 - acc: 0.9901 - val_loss: 0.1429 - val_acc: 0.9696\n",
      "Epoch 24/200\n",
      "13910/13910 [==============================] - ETA: 0s - loss: 0.0570 - acc: 0.9913\n",
      "Epoch 00024: val_acc did not improve from 0.97736\n",
      "13910/13910 [==============================] - 175s 13ms/sample - loss: 0.0570 - acc: 0.9913 - val_loss: 0.1236 - val_acc: 0.9754\n",
      "Epoch 25/200\n",
      "13910/13910 [==============================] - ETA: 0s - loss: 0.0438 - acc: 0.9950\n",
      "Epoch 00025: val_acc improved from 0.97736 to 0.98318, saving model to M2-weights-improvement-25-0.98.hdf5\n",
      "13910/13910 [==============================] - 181s 13ms/sample - loss: 0.0438 - acc: 0.9950 - val_loss: 0.1082 - val_acc: 0.9832\n",
      "Epoch 26/200\n",
      "13910/13910 [==============================] - ETA: 0s - loss: 0.0621 - acc: 0.9891\n",
      "Epoch 00026: val_acc did not improve from 0.98318\n",
      "13910/13910 [==============================] - 176s 13ms/sample - loss: 0.0621 - acc: 0.9891 - val_loss: 0.1081 - val_acc: 0.9793\n"
     ]
    },
    {
     "name": "stdout",
     "output_type": "stream",
     "text": [
      "Epoch 27/200\n",
      "13910/13910 [==============================] - ETA: 0s - loss: 0.0482 - acc: 0.9920\n",
      "Epoch 00027: val_acc did not improve from 0.98318\n",
      "13910/13910 [==============================] - 176s 13ms/sample - loss: 0.0482 - acc: 0.9920 - val_loss: 0.1103 - val_acc: 0.9787\n",
      "Epoch 28/200\n",
      "13910/13910 [==============================] - ETA: 0s - loss: 0.0563 - acc: 0.9893\n",
      "Epoch 00028: val_acc did not improve from 0.98318\n",
      "13910/13910 [==============================] - 176s 13ms/sample - loss: 0.0563 - acc: 0.9893 - val_loss: 0.1794 - val_acc: 0.9612\n",
      "Epoch 29/200\n",
      "13910/13910 [==============================] - ETA: 0s - loss: 0.0605 - acc: 0.9891\n",
      "Epoch 00029: val_acc did not improve from 0.98318\n",
      "13910/13910 [==============================] - 178s 13ms/sample - loss: 0.0605 - acc: 0.9891 - val_loss: 0.1232 - val_acc: 0.9754\n",
      "Epoch 30/200\n",
      "13910/13910 [==============================] - ETA: 0s - loss: 0.0471 - acc: 0.9930\n",
      "Epoch 00030: val_acc did not improve from 0.98318\n",
      "13910/13910 [==============================] - 180s 13ms/sample - loss: 0.0471 - acc: 0.9930 - val_loss: 0.1643 - val_acc: 0.9631\n",
      "Epoch 31/200\n",
      "13910/13910 [==============================] - ETA: 0s - loss: 0.0498 - acc: 0.9924\n",
      "Epoch 00031: val_acc did not improve from 0.98318\n",
      "13910/13910 [==============================] - 180s 13ms/sample - loss: 0.0498 - acc: 0.9924 - val_loss: 0.1160 - val_acc: 0.9748\n",
      "Epoch 32/200\n",
      "13910/13910 [==============================] - ETA: 0s - loss: 0.0425 - acc: 0.9945\n",
      "Epoch 00032: val_acc did not improve from 0.98318\n",
      "13910/13910 [==============================] - 186s 13ms/sample - loss: 0.0425 - acc: 0.9945 - val_loss: 0.1199 - val_acc: 0.9780\n",
      "Epoch 33/200\n",
      "13910/13910 [==============================] - ETA: 0s - loss: 0.0500 - acc: 0.9914\n",
      "Epoch 00033: val_acc did not improve from 0.98318\n",
      "13910/13910 [==============================] - 184s 13ms/sample - loss: 0.0500 - acc: 0.9914 - val_loss: 0.1078 - val_acc: 0.9774\n",
      "Epoch 34/200\n",
      "13910/13910 [==============================] - ETA: 0s - loss: 0.0353 - acc: 0.9967\n",
      "Epoch 00034: val_acc did not improve from 0.98318\n",
      "13910/13910 [==============================] - 191s 14ms/sample - loss: 0.0353 - acc: 0.9967 - val_loss: 0.2189 - val_acc: 0.9495\n",
      "Epoch 35/200\n",
      "13910/13910 [==============================] - ETA: 0s - loss: 0.0439 - acc: 0.9942\n",
      "Epoch 00035: val_acc did not improve from 0.98318\n",
      "\n",
      "Epoch 00035: ReduceLROnPlateau reducing learning rate to 0.0002500000118743628.\n",
      "13910/13910 [==============================] - 231s 17ms/sample - loss: 0.0439 - acc: 0.9942 - val_loss: 0.2489 - val_acc: 0.9437\n",
      "Epoch 36/200\n",
      "13910/13910 [==============================] - ETA: 0s - loss: 0.0282 - acc: 0.9987\n",
      "Epoch 00036: val_acc did not improve from 0.98318\n",
      "13910/13910 [==============================] - 211s 15ms/sample - loss: 0.0282 - acc: 0.9987 - val_loss: 0.0971 - val_acc: 0.9832\n",
      "Epoch 37/200\n",
      "13910/13910 [==============================] - ETA: 0s - loss: 0.0236 - acc: 0.9997\n",
      "Epoch 00037: val_acc did not improve from 0.98318\n",
      "13910/13910 [==============================] - 214s 15ms/sample - loss: 0.0236 - acc: 0.9997 - val_loss: 0.1057 - val_acc: 0.9806\n",
      "Epoch 38/200\n",
      "13910/13910 [==============================] - ETA: 0s - loss: 0.0219 - acc: 0.9998\n",
      "Epoch 00038: val_acc did not improve from 0.98318\n",
      "13910/13910 [==============================] - 243s 17ms/sample - loss: 0.0219 - acc: 0.9998 - val_loss: 0.1043 - val_acc: 0.9832\n",
      "Epoch 39/200\n",
      "13910/13910 [==============================] - ETA: 0s - loss: 0.0213 - acc: 0.9996\n",
      "Epoch 00039: val_acc did not improve from 0.98318\n",
      "13910/13910 [==============================] - 245s 18ms/sample - loss: 0.0213 - acc: 0.9996 - val_loss: 0.0991 - val_acc: 0.9832\n",
      "Epoch 40/200\n",
      "13910/13910 [==============================] - ETA: 0s - loss: 0.0205 - acc: 0.9997\n",
      "Epoch 00040: val_acc improved from 0.98318 to 0.98383, saving model to M2-weights-improvement-40-0.98.hdf5\n",
      "13910/13910 [==============================] - 243s 17ms/sample - loss: 0.0205 - acc: 0.9997 - val_loss: 0.0955 - val_acc: 0.9838\n",
      "Epoch 41/200\n",
      "13910/13910 [==============================] - ETA: 0s - loss: 0.0203 - acc: 0.9996\n",
      "Epoch 00041: val_acc did not improve from 0.98383\n",
      "13910/13910 [==============================] - 246s 18ms/sample - loss: 0.0203 - acc: 0.9996 - val_loss: 0.1014 - val_acc: 0.9838\n",
      "Epoch 42/200\n",
      "13910/13910 [==============================] - ETA: 0s - loss: 0.0197 - acc: 0.9998\n",
      "Epoch 00042: val_acc did not improve from 0.98383\n",
      "13910/13910 [==============================] - 258s 19ms/sample - loss: 0.0197 - acc: 0.9998 - val_loss: 0.0917 - val_acc: 0.9838\n",
      "Epoch 43/200\n",
      "13910/13910 [==============================] - ETA: 0s - loss: 0.0197 - acc: 0.9997\n",
      "Epoch 00043: val_acc did not improve from 0.98383\n",
      "13910/13910 [==============================] - 243s 17ms/sample - loss: 0.0197 - acc: 0.9997 - val_loss: 0.0980 - val_acc: 0.9832\n",
      "Epoch 44/200\n",
      "13910/13910 [==============================] - ETA: 0s - loss: 0.0188 - acc: 0.9999\n",
      "Epoch 00044: val_acc did not improve from 0.98383\n",
      "13910/13910 [==============================] - 241s 17ms/sample - loss: 0.0188 - acc: 0.9999 - val_loss: 0.1269 - val_acc: 0.9748\n",
      "Epoch 45/200\n",
      "13910/13910 [==============================] - ETA: 0s - loss: 0.0199 - acc: 0.9995\n",
      "Epoch 00045: val_acc improved from 0.98383 to 0.98448, saving model to M2-weights-improvement-45-0.98.hdf5\n",
      "13910/13910 [==============================] - 240s 17ms/sample - loss: 0.0199 - acc: 0.9995 - val_loss: 0.0913 - val_acc: 0.9845\n",
      "Epoch 46/200\n",
      "13910/13910 [==============================] - ETA: 0s - loss: 0.0195 - acc: 0.9996\n",
      "Epoch 00046: val_acc improved from 0.98448 to 0.98577, saving model to M2-weights-improvement-46-0.99.hdf5\n",
      "13910/13910 [==============================] - 238s 17ms/sample - loss: 0.0195 - acc: 0.9996 - val_loss: 0.0935 - val_acc: 0.9858\n",
      "Epoch 47/200\n",
      "13910/13910 [==============================] - ETA: 0s - loss: 0.0187 - acc: 0.9997\n",
      "Epoch 00047: val_acc did not improve from 0.98577\n",
      "13910/13910 [==============================] - 245s 18ms/sample - loss: 0.0187 - acc: 0.9997 - val_loss: 0.0935 - val_acc: 0.9812\n",
      "Epoch 48/200\n",
      "13910/13910 [==============================] - ETA: 0s - loss: 0.0188 - acc: 0.9996\n",
      "Epoch 00048: val_acc did not improve from 0.98577\n",
      "13910/13910 [==============================] - 244s 18ms/sample - loss: 0.0188 - acc: 0.9996 - val_loss: 0.1002 - val_acc: 0.9845\n",
      "Epoch 49/200\n",
      "13910/13910 [==============================] - ETA: 0s - loss: 0.0183 - acc: 0.9999\n",
      "Epoch 00049: val_acc did not improve from 0.98577\n",
      "13910/13910 [==============================] - 251s 18ms/sample - loss: 0.0183 - acc: 0.9999 - val_loss: 0.0935 - val_acc: 0.9858\n",
      "Epoch 50/200\n",
      "13910/13910 [==============================] - ETA: 0s - loss: 0.0180 - acc: 0.9999\n",
      "Epoch 00050: val_acc did not improve from 0.98577\n",
      "13910/13910 [==============================] - 280s 20ms/sample - loss: 0.0180 - acc: 0.9999 - val_loss: 0.0958 - val_acc: 0.9851\n",
      "Epoch 51/200\n",
      "13910/13910 [==============================] - ETA: 0s - loss: 0.0181 - acc: 0.9996\n",
      "Epoch 00051: val_acc did not improve from 0.98577\n",
      "13910/13910 [==============================] - 268s 19ms/sample - loss: 0.0181 - acc: 0.9996 - val_loss: 0.0922 - val_acc: 0.9851\n",
      "Epoch 52/200\n",
      "13910/13910 [==============================] - ETA: 0s - loss: 0.0173 - acc: 0.9999\n",
      "Epoch 00052: val_acc did not improve from 0.98577\n",
      "13910/13910 [==============================] - 272s 20ms/sample - loss: 0.0173 - acc: 0.9999 - val_loss: 0.0959 - val_acc: 0.9851\n",
      "Epoch 53/200\n",
      "13910/13910 [==============================] - ETA: 0s - loss: 0.0176 - acc: 0.9998\n",
      "Epoch 00053: val_acc did not improve from 0.98577\n",
      "13910/13910 [==============================] - 273s 20ms/sample - loss: 0.0176 - acc: 0.9998 - val_loss: 0.0931 - val_acc: 0.9845\n",
      "Epoch 54/200\n",
      "13910/13910 [==============================] - ETA: 0s - loss: 0.0178 - acc: 0.9997\n",
      "Epoch 00054: val_acc did not improve from 0.98577\n",
      "13910/13910 [==============================] - 258s 19ms/sample - loss: 0.0178 - acc: 0.9997 - val_loss: 0.0954 - val_acc: 0.9806\n",
      "Epoch 55/200\n",
      "13910/13910 [==============================] - ETA: 0s - loss: 0.0172 - acc: 0.9997\n",
      "Epoch 00055: val_acc did not improve from 0.98577\n",
      "13910/13910 [==============================] - 261s 19ms/sample - loss: 0.0172 - acc: 0.9997 - val_loss: 0.0974 - val_acc: 0.9851\n"
     ]
    },
    {
     "name": "stdout",
     "output_type": "stream",
     "text": [
      "Epoch 56/200\n",
      "13910/13910 [==============================] - ETA: 0s - loss: 0.0170 - acc: 0.9997\n",
      "Epoch 00056: val_acc did not improve from 0.98577\n",
      "\n",
      "Epoch 00056: ReduceLROnPlateau reducing learning rate to 6.25000029685907e-05.\n",
      "13910/13910 [==============================] - 269s 19ms/sample - loss: 0.0170 - acc: 0.9997 - val_loss: 0.0977 - val_acc: 0.9851\n",
      "Epoch 57/200\n",
      "13910/13910 [==============================] - ETA: 0s - loss: 0.0159 - acc: 0.9999\n",
      "Epoch 00057: val_acc did not improve from 0.98577\n",
      "13910/13910 [==============================] - 243s 17ms/sample - loss: 0.0159 - acc: 0.9999 - val_loss: 0.0975 - val_acc: 0.9832\n",
      "Epoch 58/200\n",
      "13910/13910 [==============================] - ETA: 0s - loss: 0.0158 - acc: 0.9999\n",
      "Epoch 00058: val_acc did not improve from 0.98577\n",
      "13910/13910 [==============================] - 243s 17ms/sample - loss: 0.0158 - acc: 0.9999 - val_loss: 0.0957 - val_acc: 0.9851\n",
      "Epoch 59/200\n",
      "13910/13910 [==============================] - ETA: 0s - loss: 0.0156 - acc: 0.9999\n",
      "Epoch 00059: val_acc did not improve from 0.98577\n",
      "13910/13910 [==============================] - 267s 19ms/sample - loss: 0.0156 - acc: 0.9999 - val_loss: 0.0993 - val_acc: 0.9832\n",
      "Epoch 60/200\n",
      "13910/13910 [==============================] - ETA: 0s - loss: 0.0154 - acc: 0.9999\n",
      "Epoch 00060: val_acc did not improve from 0.98577\n",
      "13910/13910 [==============================] - 292s 21ms/sample - loss: 0.0154 - acc: 0.9999 - val_loss: 0.0958 - val_acc: 0.9838\n",
      "Epoch 61/200\n",
      "13910/13910 [==============================] - ETA: 0s - loss: 0.0155 - acc: 0.9998\n",
      "Epoch 00061: val_acc did not improve from 0.98577\n",
      "13910/13910 [==============================] - 265s 19ms/sample - loss: 0.0155 - acc: 0.9998 - val_loss: 0.0977 - val_acc: 0.9845\n",
      "Epoch 62/200\n",
      "13910/13910 [==============================] - ETA: 0s - loss: 0.0153 - acc: 0.9999\n",
      "Epoch 00062: val_acc did not improve from 0.98577\n",
      "13910/13910 [==============================] - 268s 19ms/sample - loss: 0.0153 - acc: 0.9999 - val_loss: 0.0994 - val_acc: 0.9838\n",
      "Epoch 00062: early stopping\n"
     ]
    }
   ],
   "source": [
    "# Training the model\n",
    "#model.load_weights(\"M-weights-improvement-19-0.93.hdf5\")\n",
    "history=model.fit(X_train,\n",
    "          Y_train,\n",
    "          batch_size=batch_size,\n",
    "          validation_split=0.1,\n",
    "          epochs=epochs,\n",
    "          callbacks=callbacks_list)\n"
   ]
  },
  {
   "cell_type": "code",
   "execution_count": 12,
   "metadata": {},
   "outputs": [
    {
     "name": "stderr",
     "output_type": "stream",
     "text": [
      "findfont: Font family ['Bitstream Vera Sans'] not found. Falling back to DejaVu Sans.\n",
      "findfont: Font family ['Bitstream Vera Sans'] not found. Falling back to DejaVu Sans.\n",
      "findfont: Font family ['Bitstream Vera Sans'] not found. Falling back to DejaVu Sans.\n"
     ]
    },
    {
     "data": {
      "image/png": "[encoded data removed]",
      "text/plain": [
       "<Figure size 864x576 with 1 Axes>"
      ]
     },
     "metadata": {
      "needs_background": "light"
     },
     "output_type": "display_data"
    },
    {
     "data": {
      "image/png": "[encoded data removed]",
      "text/plain": [
       "<Figure size 864x576 with 1 Axes>"
      ]
     },
     "metadata": {
      "needs_background": "light"
     },
     "output_type": "display_data"
    }
   ],
   "source": [
    "########画图\n",
    "import matplotlib\n",
    "import matplotlib.pyplot as plt\n",
    "from sklearn import metrics\n",
    "acc = history.history['acc']     #获取训练集准确性数据\n",
    "val_acc = history.history['val_acc']    #获取验证集准确性数据\n",
    "loss = history.history['loss']          #获取训练集错误值数据\n",
    "val_loss = history.history['val_loss']  #获取验证集错误值数据\n",
    "font = {\n",
    "    'family' : 'Bitstream Vera Sans',\n",
    "    'weight' : 'bold',\n",
    "    'size'   : 18\n",
    "}\n",
    "matplotlib.rc('font', **font)\n",
    "\n",
    "width = 12\n",
    "height = 8\n",
    "plt.figure(figsize=(width, height))\n",
    "epochs = range(1,len(acc)+1)\n",
    "plt.plot(epochs,acc,'r',label='Trainning acc',linewidth=2)     #以epochs为横坐标，以训练集准确性为纵坐标\n",
    "plt.plot(epochs,val_acc,'b--',label='Vaildation acc',linewidth=2) #以epochs为横坐标，以验证集准确性为纵坐标\n",
    "plt.legend(loc='best', shadow=True)   #绘制图例，即标明图中的线段代表何种含义\n",
    "plt.title(\"Training session's progress over epochs\")\n",
    "plt.ylabel('Training Progress (Accuracy values)')\n",
    "plt.xlabel('Training epochs')\n",
    "plt.ylim([0.6,1])\n",
    "\n",
    "plt.figure(figsize=(width, height))\n",
    "plt.plot(epochs,loss,'r',label='Trainning loss',linewidth=2)\n",
    "plt.plot(epochs,val_loss,'b--',label='Vaildation loss',linewidth=2)\n",
    "plt.legend(loc='best', shadow=True)   #绘制图例，即标明图中的线段代表何种含义\n",
    "plt.title(\"Training session's progress over epochs\")\n",
    "plt.ylabel('Training Progress (Loss values)')\n",
    "plt.xlabel('Training epochs') \n",
    "plt.show()    #显示所有图表"
   ]
  },
  {
   "cell_type": "code",
   "execution_count": 13,
   "metadata": {},
   "outputs": [],
   "source": [
    "def plot_confusion_matrix(cm, classes,\n",
    "                          normalize=False,\n",
    "                          title='Confusion matrix',\n",
    "                          cmap=plt.cm.Blues):\n",
    "    if normalize:\n",
    "        cm = cm.astype('float') / cm.sum(axis=1)[:, np.newaxis]\n",
    "\n",
    "    plt.imshow(cm, interpolation='nearest', cmap=cmap)\n",
    "    plt.title(title)\n",
    "    plt.colorbar()\n",
    "    tick_marks = np.arange(len(classes))\n",
    "    plt.xticks(tick_marks, classes, rotation=90)\n",
    "    plt.yticks(tick_marks, classes)\n",
    "\n",
    "    fmt = '.2f' if normalize else 'd'\n",
    "    thresh = cm.max() / 2.\n",
    "    for i, j in itertools.product(range(cm.shape[0]), range(cm.shape[1])):\n",
    "        plt.text(j, i, format(cm[i, j], fmt),\n",
    "                 horizontalalignment=\"center\",\n",
    "                 color=\"white\" if cm[i, j] > thresh else \"black\")\n",
    "\n",
    "    plt.tight_layout()\n",
    "    plt.ylabel('True label')\n",
    "    plt.xlabel('Predicted label')"
   ]
  },
  {
   "cell_type": "code",
   "execution_count": 14,
   "metadata": {},
   "outputs": [
    {
     "name": "stdout",
     "output_type": "stream",
     "text": [
      "acc: 97.67%\n"
     ]
    },
    {
     "ename": "AttributeError",
     "evalue": "'Functional' object has no attribute 'predict_classes'",
     "output_type": "error",
     "traceback": [
      "\u001b[1;31m---------------------------------------------------------------------------\u001b[0m",
      "\u001b[1;31mAttributeError\u001b[0m                            Traceback (most recent call last)",
      "\u001b[1;32m<ipython-input-14-cc54c5cf9ee2>\u001b[0m in \u001b[0;36m<module>\u001b[1;34m\u001b[0m\n\u001b[0;32m      7\u001b[0m \u001b[1;33m\u001b[0m\u001b[0m\n\u001b[0;32m      8\u001b[0m \u001b[1;31m# confusion matrix\u001b[0m\u001b[1;33m\u001b[0m\u001b[1;33m\u001b[0m\u001b[1;33m\u001b[0m\u001b[0m\n\u001b[1;32m----> 9\u001b[1;33m \u001b[0mY_pred\u001b[0m\u001b[1;33m=\u001b[0m\u001b[0mmodel\u001b[0m\u001b[1;33m.\u001b[0m\u001b[0mpredict_classes\u001b[0m\u001b[1;33m(\u001b[0m\u001b[0mX_test\u001b[0m\u001b[1;33m)\u001b[0m\u001b[1;33m\u001b[0m\u001b[1;33m\u001b[0m\u001b[0m\n\u001b[0m\u001b[0;32m     10\u001b[0m \u001b[0mprint\u001b[0m\u001b[1;33m(\u001b[0m\u001b[0mY_pred\u001b[0m\u001b[1;33m.\u001b[0m\u001b[0mshape\u001b[0m\u001b[1;33m)\u001b[0m\u001b[1;33m\u001b[0m\u001b[1;33m\u001b[0m\u001b[0m\n",
      "\u001b[1;31mAttributeError\u001b[0m: 'Functional' object has no attribute 'predict_classes'"
     ]
    }
   ],
   "source": [
    "#model2.load_weights(\"M2-weights-improvement-45-0.97.hdf5\")\n",
    "model.compile(loss='sparse_categorical_crossentropy',\n",
    "              optimizer='Adam',\n",
    "              metrics=['accuracy'])\n",
    "scores = model.evaluate(X_test, Y_test, verbose=0)\n",
    "print(\"%s: %.2f%%\" % (model.metrics_names[1], scores[1]*100))\n",
    "\n",
    "# confusion matrix\n",
    "Y_pred=model.predict_classes(X_test)\n",
    "print(Y_pred.shape)"
   ]
  },
  {
   "cell_type": "code",
   "execution_count": null,
   "metadata": {},
   "outputs": [],
   "source": [
    "from sklearn.metrics import confusion_matrix\n",
    "cm_cmap=plt.cm.Greens\n",
    "cm = confusion_matrix(Y_test,Y_pred)\n",
    "\n",
    "\n",
    "print('| Confusion Matrix |')\n",
    "print('--------------------')\n",
    "print('\\n {}'.format(cm))\n",
    "class_labels=['Pre','Mid','Post']\n",
    "# plot confusin matrix\n",
    "plt.figure(figsize=(8,8))\n",
    "plt.grid(b=False)\n",
    "plot_confusion_matrix(cm, classes=class_labels, normalize=True, title='Normalized confusion matrix', cmap = cm_cmap)\n",
    "plt.show()\n",
    "class_labels=[0,1,2]\n",
    "# get classification report\n",
    "print('| Classifiction Report |')\n",
    "print('-------------------------')\n",
    "classification_report = metrics.classification_report(Y_test,Y_pred,labels =class_labels)\n",
    "# store report in results\n",
    "\n",
    "\n",
    "print(classification_report)"
   ]
  },
  {
   "cell_type": "code",
   "execution_count": null,
   "metadata": {},
   "outputs": [],
   "source": []
  }
 ],
 "metadata": {
  "anaconda-cloud": {},
  "kernelspec": {
   "display_name": "Python 3",
   "language": "python",
   "name": "python3"
  },
  "language_info": {
   "codemirror_mode": {
    "name": "ipython",
    "version": 3
   },
   "file_extension": ".py",
   "mimetype": "text/x-python",
   "name": "python",
   "nbconvert_exporter": "python",
   "pygments_lexer": "ipython3",
   "version": "3.7.9"
  }
 },
 "nbformat": 4,
 "nbformat_minor": 1
}
