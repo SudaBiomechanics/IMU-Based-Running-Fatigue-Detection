{
 "cells": [
  {
   "cell_type": "markdown",
   "metadata": {},
   "source": [
    "# CNN-LSTM自己"
   ]
  },
  {
   "cell_type": "code",
   "execution_count": 1,
   "metadata": {},
   "outputs": [],
   "source": [
    "import tensorflow.compat.v1  as tf\n",
    "import numpy as np\n",
    "import os,sys\n",
    "tf.compat.v1.disable_eager_execution()\n",
    "import scipy.io as scio"
   ]
  },
  {
   "cell_type": "code",
   "execution_count": 2,
   "metadata": {},
   "outputs": [
    {
     "name": "stdout",
     "output_type": "stream",
     "text": [
      "(34334, 200, 9)\n",
      "(34334, 1)\n"
     ]
    }
   ],
   "source": [
    "X_train_mat = scio.loadmat('X_train-3Classes-50%overlap.mat')\n",
    "key_name = list(X_train_mat.keys())[-1]\n",
    "X_train=X_train_mat[key_name]\n",
    "print(X_train.shape)\n",
    "\n",
    "Y_train_mat = scio.loadmat('Y_train-3Classes-50%overlap.mat')\n",
    "key_name = list(Y_train_mat.keys())[-1]\n",
    "Y_train=Y_train_mat[key_name]\n",
    "print(Y_train.shape)"
   ]
  },
  {
   "cell_type": "code",
   "execution_count": 3,
   "metadata": {},
   "outputs": [
    {
     "name": "stdout",
     "output_type": "stream",
     "text": [
      "(34334, 200, 9)\n",
      "(34334, 1)\n"
     ]
    }
   ],
   "source": [
    "#只取前列数据\n",
    "X_train=X_train[:,:,0:9]#只取前\n",
    "print(X_train.shape)\n",
    "print(Y_train.shape)"
   ]
  },
  {
   "cell_type": "code",
   "execution_count": 4,
   "metadata": {},
   "outputs": [
    {
     "name": "stdout",
     "output_type": "stream",
     "text": [
      "(30900, 200, 9)\n",
      "(30900, 1)\n",
      "(3434, 200, 9)\n",
      "(3434, 1)\n"
     ]
    }
   ],
   "source": [
    "from sklearn.model_selection import train_test_split\n",
    "X_train, X_test, Y_train, Y_test = train_test_split(X_train, Y_train, test_size = 0.1, random_state = 0)\n",
    "#X_test, X_valid, Y_test, Y_valid = train_test_split(X_test, Y_test, test_size = 0.5, random_state = 0)\n",
    "print(X_train.shape)\n",
    "print(Y_train.shape)\n",
    "print(X_test.shape)\n",
    "print(Y_test.shape)"
   ]
  },
  {
   "cell_type": "code",
   "execution_count": 5,
   "metadata": {},
   "outputs": [
    {
     "name": "stdout",
     "output_type": "stream",
     "text": [
      "WARNING:tensorflow:From D:\\Anaconda3\\envs\\tensorflow1\\lib\\site-packages\\tensorflow\\python\\compat\\v2_compat.py:96: disable_resource_variables (from tensorflow.python.ops.variable_scope) is deprecated and will be removed in a future version.\n",
      "Instructions for updating:\n",
      "non-resource variables are not supported in the long term\n"
     ]
    }
   ],
   "source": [
    "np.random.seed(42)\n",
    "import tensorflow.compat.v1 as tf\n",
    "tf.disable_v2_behavior()\n",
    "tf.set_random_seed(42)\n",
    "# Configuring a session\n",
    "session_conf = tf.ConfigProto(\n",
    "    intra_op_parallelism_threads=1,\n",
    "    inter_op_parallelism_threads=1\n",
    ")"
   ]
  },
  {
   "cell_type": "code",
   "execution_count": 6,
   "metadata": {},
   "outputs": [],
   "source": [
    "# Import Keras\n",
    "from __future__ import print_function\n",
    "import keras\n",
    "from keras import regularizers,Input\n",
    "from keras.models import Sequential\n",
    "from keras.layers import Dense, Dropout,Flatten, Reshape, Softmax,concatenate\n",
    "from keras.layers import Conv2D, MaxPooling2D, Conv1D, MaxPooling1D, TimeDistributed,LSTM,Bidirectional,BatchNormalization\n",
    "from keras.models import Model\n",
    "#from keras import backend as K\n",
    "from tensorflow.compat.v1.keras import backend as K\n",
    "sess = tf.Session(graph=tf.get_default_graph(), config=session_conf)\n",
    "K.set_session(sess)\n",
    "\n",
    "# callbacks:\n",
    "from keras.callbacks import ModelCheckpoint\n",
    "from keras.callbacks import TensorBoard\n",
    "from keras.callbacks import EarlyStopping\n",
    "from keras.callbacks import ReduceLROnPlateau"
   ]
  },
  {
   "cell_type": "code",
   "execution_count": 7,
   "metadata": {},
   "outputs": [],
   "source": [
    "# Utility function to count the number of classes\n",
    "def _count_classes(y):\n",
    "    return len(set([tuple(category) for category in y]))"
   ]
  },
  {
   "cell_type": "code",
   "execution_count": 8,
   "metadata": {},
   "outputs": [
    {
     "name": "stdout",
     "output_type": "stream",
     "text": [
      "200 9 30900\n",
      "3\n"
     ]
    }
   ],
   "source": [
    "# Initializing parameters\n",
    "epochs = 200\n",
    "batch_size = 256\n",
    "timesteps = 200\n",
    "input_dim = len(X_train[0][0])\n",
    "n_classes = _count_classes(Y_train)\n",
    "#input_shape = (timesteps, input_dim)\n",
    "\n",
    "print(timesteps,input_dim,len(X_train))\n",
    "print(n_classes)"
   ]
  },
  {
   "cell_type": "markdown",
   "metadata": {},
   "source": [
    "**LSTM Model**"
   ]
  },
  {
   "cell_type": "code",
   "execution_count": 9,
   "metadata": {},
   "outputs": [],
   "source": [
    "def get_model():\n",
    "    inp=Input(shape=(200,9))\n",
    "\n",
    "    #CNN model\n",
    "    reshape=Reshape((200,9,1))(inp)\n",
    "    conv1=Conv2D(32,(18,1),activation='relu',strides=(2,1),padding='SAME',input_shape=(200,9,1))(reshape)\n",
    "    maxp1=MaxPooling2D(pool_size=(2, 1))(conv1)\n",
    "    conv2=Conv2D(64, (9, 1), activation='relu',padding='SAME')(maxp1)\n",
    "    conv3=Conv2D(128, (3, 1), activation='relu',padding='SAME')(conv2)\n",
    "    maxp3=MaxPooling2D(pool_size=(2, 1))(conv3)\n",
    "    conv4=Conv2D(128, (1, 9), activation='relu', padding='VALID')(maxp3)\n",
    "    cnn_out=Flatten()(conv4)\n",
    "\n",
    "\n",
    "    #LSTM model\n",
    "    lstm1=LSTM(128, return_sequences=True, input_shape=(timesteps, input_dim), kernel_initializer='glorot_normal')(inp)\n",
    "    # Adding a dropout layer\n",
    "    #model2.add(Dropout(0.25))\n",
    "    batch1=BatchNormalization()(lstm1)\n",
    "    lstm2=LSTM(64)(batch1)\n",
    "    # Adding a dropout layer\n",
    "    lstm_out=Dropout(0.5)(lstm2)\n",
    "\n",
    "    m2=concatenate([cnn_out,lstm_out],axis=1)\n",
    "\n",
    "    m2_out=Dense(n_classes, activation='softmax',kernel_regularizer=regularizers.l2(0.01),\n",
    "                    activity_regularizer=regularizers.l1(0.01))(m2)\n",
    "    model=Model(inputs=inp,outputs=m2_out)\n",
    "    model.summary()\n",
    "    return model"
   ]
  },
  {
   "cell_type": "code",
   "execution_count": 10,
   "metadata": {},
   "outputs": [
    {
     "name": "stdout",
     "output_type": "stream",
     "text": [
      "Model: \"functional_1\"\n",
      "__________________________________________________________________________________________________\n",
      "Layer (type)                    Output Shape         Param #     Connected to                     \n",
      "==================================================================================================\n",
      "input_1 (InputLayer)            [(None, 200, 9)]     0                                            \n",
      "__________________________________________________________________________________________________\n",
      "reshape (Reshape)               (None, 200, 9, 1)    0           input_1[0][0]                    \n",
      "__________________________________________________________________________________________________\n",
      "conv2d (Conv2D)                 (None, 100, 9, 32)   608         reshape[0][0]                    \n",
      "__________________________________________________________________________________________________\n",
      "max_pooling2d (MaxPooling2D)    (None, 50, 9, 32)    0           conv2d[0][0]                     \n",
      "__________________________________________________________________________________________________\n",
      "conv2d_1 (Conv2D)               (None, 50, 9, 64)    18496       max_pooling2d[0][0]              \n",
      "__________________________________________________________________________________________________\n",
      "conv2d_2 (Conv2D)               (None, 50, 9, 128)   24704       conv2d_1[0][0]                   \n",
      "__________________________________________________________________________________________________\n",
      "lstm (LSTM)                     (None, 200, 128)     70656       input_1[0][0]                    \n",
      "__________________________________________________________________________________________________\n",
      "max_pooling2d_1 (MaxPooling2D)  (None, 25, 9, 128)   0           conv2d_2[0][0]                   \n",
      "__________________________________________________________________________________________________\n",
      "batch_normalization (BatchNorma (None, 200, 128)     512         lstm[0][0]                       \n",
      "__________________________________________________________________________________________________\n",
      "conv2d_3 (Conv2D)               (None, 25, 1, 128)   147584      max_pooling2d_1[0][0]            \n",
      "__________________________________________________________________________________________________\n",
      "lstm_1 (LSTM)                   (None, 64)           49408       batch_normalization[0][0]        \n",
      "__________________________________________________________________________________________________\n",
      "flatten (Flatten)               (None, 3200)         0           conv2d_3[0][0]                   \n",
      "__________________________________________________________________________________________________\n",
      "dropout (Dropout)               (None, 64)           0           lstm_1[0][0]                     \n",
      "__________________________________________________________________________________________________\n",
      "concatenate (Concatenate)       (None, 3264)         0           flatten[0][0]                    \n",
      "                                                                 dropout[0][0]                    \n",
      "__________________________________________________________________________________________________\n",
      "dense (Dense)                   (None, 3)            9795        concatenate[0][0]                \n",
      "==================================================================================================\n",
      "Total params: 321,763\n",
      "Trainable params: 321,507\n",
      "Non-trainable params: 256\n",
      "__________________________________________________________________________________________________\n"
     ]
    }
   ],
   "source": [
    "\n",
    "#-------------------\n",
    "# Compiling the model\n",
    "model=get_model()\n",
    "model.compile(loss='sparse_categorical_crossentropy',\n",
    "              optimizer='rmsprop',\n",
    "              metrics=['accuracy'])\n",
    "\n",
    "filepath=\"M2-weights-improvement-{epoch:02d}-{val_acc:.2f}.hdf5\"\n",
    "\n",
    "mc = ModelCheckpoint(filepath, monitor='val_acc', verbose=1, save_best_only=True, mode='max')\n",
    "\n",
    "tb = TensorBoard(log_dir='./logs',  # log 目录\n",
    "                 histogram_freq=1,  # 按照何等频率（epoch）来计算直方图，0为不计算\n",
    "                 batch_size=64,     # 用多大量的数据计算直方图\n",
    "                 write_graph=True,  # 是否存储网络结构图\n",
    "                 write_grads=True, # 是否可视化梯度直方图\n",
    "                 write_images=True,# 是否可视化参数\n",
    "                 embeddings_freq=0,\n",
    "                 embeddings_layer_names=None,\n",
    "                 embeddings_metadata=None)\n",
    "\n",
    "es=EarlyStopping(monitor='val_loss', patience=16, verbose=2)\n",
    "rp=ReduceLROnPlateau(\n",
    "    monitor='val_acc',\n",
    "    factor=0.25,\n",
    "    patience=10,#多少epoch，如果monitor内容没有效果就earlystop\n",
    "    verbose=2,\n",
    "    mode='auto',\n",
    "    min_delta=0.0001,\n",
    "    cooldown=0,\n",
    "    min_lr=0\n",
    ")\n",
    "\n",
    "# callbacks_list = [mc,tb,es,rp]\n",
    "callbacks_list = [mc,es,rp]"
   ]
  },
  {
   "cell_type": "code",
   "execution_count": 11,
   "metadata": {
    "scrolled": false
   },
   "outputs": [
    {
     "name": "stdout",
     "output_type": "stream",
     "text": [
      "Train on 27810 samples, validate on 3090 samples\n",
      "Epoch 1/200\n",
      "27810/27810 [==============================] - ETA: 0s - loss: 1.9054 - acc: 0.6076WARNING:tensorflow:From D:\\Anaconda3\\envs\\tensorflow1\\lib\\site-packages\\tensorflow\\python\\keras\\engine\\training_v1.py:2048: Model.state_updates (from tensorflow.python.keras.engine.training) is deprecated and will be removed in a future version.\n",
      "Instructions for updating:\n",
      "This property should not be used in TensorFlow 2.0, as updates are applied automatically.\n",
      "\n",
      "Epoch 00001: val_acc improved from -inf to 0.75534, saving model to M2-weights-improvement-01-0.76.hdf5\n",
      "27810/27810 [==============================] - 353s 13ms/sample - loss: 1.9054 - acc: 0.6076 - val_loss: 0.6291 - val_acc: 0.7553\n",
      "Epoch 2/200\n",
      "27810/27810 [==============================] - ETA: 0s - loss: 0.4369 - acc: 0.8475\n",
      "Epoch 00002: val_acc improved from 0.75534 to 0.86440, saving model to M2-weights-improvement-02-0.86.hdf5\n",
      "27810/27810 [==============================] - 357s 13ms/sample - loss: 0.4369 - acc: 0.8475 - val_loss: 0.3816 - val_acc: 0.8644\n",
      "Epoch 3/200\n",
      "27810/27810 [==============================] - ETA: 0s - loss: 0.2776 - acc: 0.9151\n",
      "Epoch 00003: val_acc improved from 0.86440 to 0.94790, saving model to M2-weights-improvement-03-0.95.hdf5\n",
      "27810/27810 [==============================] - 345s 12ms/sample - loss: 0.2776 - acc: 0.9151 - val_loss: 0.1897 - val_acc: 0.9479\n",
      "Epoch 4/200\n",
      "27810/27810 [==============================] - ETA: 0s - loss: 0.1871 - acc: 0.9470\n",
      "Epoch 00004: val_acc did not improve from 0.94790\n",
      "27810/27810 [==============================] - 348s 13ms/sample - loss: 0.1871 - acc: 0.9470 - val_loss: 0.4830 - val_acc: 0.8307\n",
      "Epoch 5/200\n",
      "27810/27810 [==============================] - ETA: 0s - loss: 0.1513 - acc: 0.9618\n",
      "Epoch 00005: val_acc improved from 0.94790 to 0.96343, saving model to M2-weights-improvement-05-0.96.hdf5\n",
      "27810/27810 [==============================] - 348s 13ms/sample - loss: 0.1513 - acc: 0.9618 - val_loss: 0.1734 - val_acc: 0.9634\n",
      "Epoch 6/200\n",
      "27810/27810 [==============================] - ETA: 0s - loss: 0.1213 - acc: 0.9712\n",
      "Epoch 00006: val_acc improved from 0.96343 to 0.97055, saving model to M2-weights-improvement-06-0.97.hdf5\n",
      "27810/27810 [==============================] - 346s 12ms/sample - loss: 0.1213 - acc: 0.9712 - val_loss: 0.1198 - val_acc: 0.9706\n",
      "Epoch 7/200\n",
      "27810/27810 [==============================] - ETA: 0s - loss: 0.1043 - acc: 0.9749\n",
      "Epoch 00007: val_acc improved from 0.97055 to 0.97540, saving model to M2-weights-improvement-07-0.98.hdf5\n",
      "27810/27810 [==============================] - 357s 13ms/sample - loss: 0.1043 - acc: 0.9749 - val_loss: 0.1162 - val_acc: 0.9754\n",
      "Epoch 8/200\n",
      "27810/27810 [==============================] - ETA: 0s - loss: 0.0885 - acc: 0.9812\n",
      "Epoch 00008: val_acc did not improve from 0.97540\n",
      "27810/27810 [==============================] - 345s 12ms/sample - loss: 0.0885 - acc: 0.9812 - val_loss: 0.1780 - val_acc: 0.9502\n",
      "Epoch 9/200\n",
      "27810/27810 [==============================] - ETA: 0s - loss: 0.0788 - acc: 0.9844\n",
      "Epoch 00009: val_acc improved from 0.97540 to 0.98188, saving model to M2-weights-improvement-09-0.98.hdf5\n",
      "27810/27810 [==============================] - 341s 12ms/sample - loss: 0.0788 - acc: 0.9844 - val_loss: 0.0772 - val_acc: 0.9819\n",
      "Epoch 10/200\n",
      "27810/27810 [==============================] - ETA: 0s - loss: 0.0756 - acc: 0.9841\n",
      "Epoch 00010: val_acc improved from 0.98188 to 0.98479, saving model to M2-weights-improvement-10-0.98.hdf5\n",
      "27810/27810 [==============================] - 344s 12ms/sample - loss: 0.0756 - acc: 0.9841 - val_loss: 0.0738 - val_acc: 0.9848\n",
      "Epoch 11/200\n",
      "27810/27810 [==============================] - ETA: 0s - loss: 0.0649 - acc: 0.9877\n",
      "Epoch 00011: val_acc improved from 0.98479 to 0.98576, saving model to M2-weights-improvement-11-0.99.hdf5\n",
      "27810/27810 [==============================] - 340s 12ms/sample - loss: 0.0649 - acc: 0.9877 - val_loss: 0.0630 - val_acc: 0.9858\n",
      "Epoch 12/200\n",
      "27810/27810 [==============================] - ETA: 0s - loss: 0.0623 - acc: 0.9890\n",
      "Epoch 00012: val_acc did not improve from 0.98576\n",
      "27810/27810 [==============================] - 336s 12ms/sample - loss: 0.0623 - acc: 0.9890 - val_loss: 0.2147 - val_acc: 0.9356\n",
      "Epoch 13/200\n",
      "27810/27810 [==============================] - ETA: 0s - loss: 0.0614 - acc: 0.9891\n",
      "Epoch 00013: val_acc did not improve from 0.98576\n",
      "27810/27810 [==============================] - 337s 12ms/sample - loss: 0.0614 - acc: 0.9891 - val_loss: 0.0662 - val_acc: 0.9854\n",
      "Epoch 14/200\n",
      "27810/27810 [==============================] - ETA: 0s - loss: 0.0548 - acc: 0.9904\n",
      "Epoch 00014: val_acc did not improve from 0.98576\n",
      "27810/27810 [==============================] - 341s 12ms/sample - loss: 0.0548 - acc: 0.9904 - val_loss: 0.0634 - val_acc: 0.9845\n",
      "Epoch 15/200\n",
      "27810/27810 [==============================] - ETA: 0s - loss: 0.0544 - acc: 0.9903\n",
      "Epoch 00015: val_acc improved from 0.98576 to 0.98964, saving model to M2-weights-improvement-15-0.99.hdf5\n",
      "27810/27810 [==============================] - 358s 13ms/sample - loss: 0.0544 - acc: 0.9903 - val_loss: 0.0534 - val_acc: 0.9896\n",
      "Epoch 16/200\n",
      "27810/27810 [==============================] - ETA: 0s - loss: 0.0510 - acc: 0.9915\n",
      "Epoch 00016: val_acc did not improve from 0.98964\n",
      "27810/27810 [==============================] - 348s 12ms/sample - loss: 0.0510 - acc: 0.9915 - val_loss: 0.0564 - val_acc: 0.9874\n",
      "Epoch 17/200\n",
      "27810/27810 [==============================] - ETA: 0s - loss: 0.0444 - acc: 0.9936\n",
      "Epoch 00017: val_acc did not improve from 0.98964\n",
      "27810/27810 [==============================] - 353s 13ms/sample - loss: 0.0444 - acc: 0.9936 - val_loss: 0.0592 - val_acc: 0.9848\n",
      "Epoch 18/200\n",
      "27810/27810 [==============================] - ETA: 0s - loss: 0.0440 - acc: 0.9935\n",
      "Epoch 00018: val_acc improved from 0.98964 to 0.98997, saving model to M2-weights-improvement-18-0.99.hdf5\n",
      "27810/27810 [==============================] - 351s 13ms/sample - loss: 0.0440 - acc: 0.9935 - val_loss: 0.0512 - val_acc: 0.9900\n",
      "Epoch 19/200\n",
      "27810/27810 [==============================] - ETA: 0s - loss: 0.0465 - acc: 0.9927\n",
      "Epoch 00019: val_acc improved from 0.98997 to 0.99256, saving model to M2-weights-improvement-19-0.99.hdf5\n",
      "27810/27810 [==============================] - 354s 13ms/sample - loss: 0.0465 - acc: 0.9927 - val_loss: 0.0465 - val_acc: 0.9926\n",
      "Epoch 20/200\n",
      "27810/27810 [==============================] - ETA: 0s - loss: 0.0379 - acc: 0.9956\n",
      "Epoch 00020: val_acc did not improve from 0.99256\n",
      "27810/27810 [==============================] - 357s 13ms/sample - loss: 0.0379 - acc: 0.9956 - val_loss: 0.0589 - val_acc: 0.9903\n",
      "Epoch 21/200\n",
      "27810/27810 [==============================] - ETA: 0s - loss: 0.0427 - acc: 0.9932\n",
      "Epoch 00021: val_acc did not improve from 0.99256\n",
      "27810/27810 [==============================] - 357s 13ms/sample - loss: 0.0427 - acc: 0.9932 - val_loss: 0.0520 - val_acc: 0.9877\n",
      "Epoch 22/200\n",
      "27810/27810 [==============================] - ETA: 0s - loss: 0.0359 - acc: 0.9954\n",
      "Epoch 00022: val_acc did not improve from 0.99256\n",
      "27810/27810 [==============================] - 349s 13ms/sample - loss: 0.0359 - acc: 0.9954 - val_loss: 0.0541 - val_acc: 0.9861\n",
      "Epoch 23/200\n",
      "27810/27810 [==============================] - ETA: 0s - loss: 0.0422 - acc: 0.9942\n",
      "Epoch 00023: val_acc did not improve from 0.99256\n",
      "27810/27810 [==============================] - 357s 13ms/sample - loss: 0.0422 - acc: 0.9942 - val_loss: 0.1352 - val_acc: 0.9566\n",
      "Epoch 24/200\n",
      "27810/27810 [==============================] - ETA: 0s - loss: 0.0348 - acc: 0.9959\n",
      "Epoch 00024: val_acc did not improve from 0.99256\n",
      "27810/27810 [==============================] - 364s 13ms/sample - loss: 0.0348 - acc: 0.9959 - val_loss: 0.2179 - val_acc: 0.9343\n",
      "Epoch 25/200\n",
      "27810/27810 [==============================] - ETA: 0s - loss: 0.0359 - acc: 0.9956\n",
      "Epoch 00025: val_acc did not improve from 0.99256\n",
      "27810/27810 [==============================] - 362s 13ms/sample - loss: 0.0359 - acc: 0.9956 - val_loss: 0.0491 - val_acc: 0.9893\n",
      "Epoch 26/200\n",
      "27810/27810 [==============================] - ETA: 0s - loss: 0.0333 - acc: 0.9957\n",
      "Epoch 00026: val_acc did not improve from 0.99256\n",
      "27810/27810 [==============================] - 353s 13ms/sample - loss: 0.0333 - acc: 0.9957 - val_loss: 0.0486 - val_acc: 0.9909\n"
     ]
    },
    {
     "name": "stdout",
     "output_type": "stream",
     "text": [
      "Epoch 27/200\n",
      "27810/27810 [==============================] - ETA: 0s - loss: 0.0327 - acc: 0.9959\n",
      "Epoch 00027: val_acc did not improve from 0.99256\n",
      "27810/27810 [==============================] - 350s 13ms/sample - loss: 0.0327 - acc: 0.9959 - val_loss: 0.0433 - val_acc: 0.9906\n",
      "Epoch 28/200\n",
      "27810/27810 [==============================] - ETA: 0s - loss: 0.0332 - acc: 0.9955\n",
      "Epoch 00028: val_acc did not improve from 0.99256\n",
      "27810/27810 [==============================] - 343s 12ms/sample - loss: 0.0332 - acc: 0.9955 - val_loss: 0.0440 - val_acc: 0.9896\n",
      "Epoch 29/200\n",
      "27810/27810 [==============================] - ETA: 0s - loss: 0.0315 - acc: 0.9963\n",
      "Epoch 00029: val_acc did not improve from 0.99256\n",
      "\n",
      "Epoch 00029: ReduceLROnPlateau reducing learning rate to 0.0002500000118743628.\n",
      "27810/27810 [==============================] - 344s 12ms/sample - loss: 0.0315 - acc: 0.9963 - val_loss: 0.0401 - val_acc: 0.9919\n",
      "Epoch 30/200\n",
      "27810/27810 [==============================] - ETA: 0s - loss: 0.0214 - acc: 0.9992\n",
      "Epoch 00030: val_acc did not improve from 0.99256\n",
      "27810/27810 [==============================] - 347s 12ms/sample - loss: 0.0214 - acc: 0.9992 - val_loss: 0.0377 - val_acc: 0.9913\n",
      "Epoch 31/200\n",
      "27810/27810 [==============================] - ETA: 0s - loss: 0.0195 - acc: 0.9996\n",
      "Epoch 00031: val_acc improved from 0.99256 to 0.99320, saving model to M2-weights-improvement-31-0.99.hdf5\n",
      "27810/27810 [==============================] - 343s 12ms/sample - loss: 0.0195 - acc: 0.9996 - val_loss: 0.0401 - val_acc: 0.9932\n",
      "Epoch 32/200\n",
      "27810/27810 [==============================] - ETA: 0s - loss: 0.0190 - acc: 0.9995\n",
      "Epoch 00032: val_acc did not improve from 0.99320\n",
      "27810/27810 [==============================] - 342s 12ms/sample - loss: 0.0190 - acc: 0.9995 - val_loss: 0.0349 - val_acc: 0.9919\n",
      "Epoch 33/200\n",
      "27810/27810 [==============================] - ETA: 0s - loss: 0.0185 - acc: 0.9997\n",
      "Epoch 00033: val_acc did not improve from 0.99320\n",
      "27810/27810 [==============================] - 354s 13ms/sample - loss: 0.0185 - acc: 0.9997 - val_loss: 0.0394 - val_acc: 0.9916\n",
      "Epoch 34/200\n",
      "27810/27810 [==============================] - ETA: 0s - loss: 0.0182 - acc: 0.9996\n",
      "Epoch 00034: val_acc did not improve from 0.99320\n",
      "27810/27810 [==============================] - 353s 13ms/sample - loss: 0.0182 - acc: 0.9996 - val_loss: 0.0433 - val_acc: 0.9909\n",
      "Epoch 35/200\n",
      "27810/27810 [==============================] - ETA: 0s - loss: 0.0178 - acc: 0.9997\n",
      "Epoch 00035: val_acc did not improve from 0.99320\n",
      "27810/27810 [==============================] - 359s 13ms/sample - loss: 0.0178 - acc: 0.9997 - val_loss: 0.0368 - val_acc: 0.9916\n",
      "Epoch 36/200\n",
      "27810/27810 [==============================] - ETA: 0s - loss: 0.0174 - acc: 0.9997\n",
      "Epoch 00036: val_acc did not improve from 0.99320\n",
      "27810/27810 [==============================] - 364s 13ms/sample - loss: 0.0174 - acc: 0.9997 - val_loss: 0.0391 - val_acc: 0.9916\n",
      "Epoch 37/200\n",
      "27810/27810 [==============================] - ETA: 0s - loss: 0.0173 - acc: 0.9996\n",
      "Epoch 00037: val_acc did not improve from 0.99320\n",
      "27810/27810 [==============================] - 406s 15ms/sample - loss: 0.0173 - acc: 0.9996 - val_loss: 0.0384 - val_acc: 0.9916\n",
      "Epoch 38/200\n",
      "27810/27810 [==============================] - ETA: 0s - loss: 0.0169 - acc: 0.9998\n",
      "Epoch 00038: val_acc did not improve from 0.99320\n",
      "27810/27810 [==============================] - 450s 16ms/sample - loss: 0.0169 - acc: 0.9998 - val_loss: 0.0450 - val_acc: 0.9893\n",
      "Epoch 39/200\n",
      "27810/27810 [==============================] - ETA: 0s - loss: 0.0166 - acc: 0.9998\n",
      "Epoch 00039: val_acc did not improve from 0.99320\n",
      "27810/27810 [==============================] - 456s 16ms/sample - loss: 0.0166 - acc: 0.9998 - val_loss: 0.0397 - val_acc: 0.9903\n",
      "Epoch 40/200\n",
      "27810/27810 [==============================] - ETA: 0s - loss: 0.0163 - acc: 0.9997\n",
      "Epoch 00040: val_acc did not improve from 0.99320\n",
      "27810/27810 [==============================] - 447s 16ms/sample - loss: 0.0163 - acc: 0.9997 - val_loss: 0.0391 - val_acc: 0.9916\n",
      "Epoch 41/200\n",
      "27810/27810 [==============================] - ETA: 0s - loss: 0.0160 - acc: 0.9997\n",
      "Epoch 00041: val_acc did not improve from 0.99320\n",
      "\n",
      "Epoch 00041: ReduceLROnPlateau reducing learning rate to 6.25000029685907e-05.\n",
      "27810/27810 [==============================] - 445s 16ms/sample - loss: 0.0160 - acc: 0.9997 - val_loss: 0.0371 - val_acc: 0.9913\n",
      "Epoch 42/200\n",
      "27810/27810 [==============================] - ETA: 0s - loss: 0.0151 - acc: 0.9999\n",
      "Epoch 00042: val_acc did not improve from 0.99320\n",
      "27810/27810 [==============================] - 442s 16ms/sample - loss: 0.0151 - acc: 0.9999 - val_loss: 0.0379 - val_acc: 0.9909\n",
      "Epoch 43/200\n",
      "27810/27810 [==============================] - ETA: 0s - loss: 0.0148 - acc: 0.9999\n",
      "Epoch 00043: val_acc did not improve from 0.99320\n",
      "27810/27810 [==============================] - 448s 16ms/sample - loss: 0.0148 - acc: 0.9999 - val_loss: 0.0394 - val_acc: 0.9916\n",
      "Epoch 44/200\n",
      "27810/27810 [==============================] - ETA: 0s - loss: 0.0146 - acc: 0.9999\n",
      "Epoch 00044: val_acc did not improve from 0.99320\n",
      "27810/27810 [==============================] - 443s 16ms/sample - loss: 0.0146 - acc: 0.9999 - val_loss: 0.0380 - val_acc: 0.9913\n",
      "Epoch 45/200\n",
      "27810/27810 [==============================] - ETA: 0s - loss: 0.0145 - acc: 0.9999\n",
      "Epoch 00045: val_acc did not improve from 0.99320\n",
      "27810/27810 [==============================] - 450s 16ms/sample - loss: 0.0145 - acc: 0.9999 - val_loss: 0.0409 - val_acc: 0.9922\n",
      "Epoch 46/200\n",
      "27810/27810 [==============================] - ETA: 0s - loss: 0.0143 - acc: 0.9999\n",
      "Epoch 00046: val_acc did not improve from 0.99320\n",
      "27810/27810 [==============================] - 443s 16ms/sample - loss: 0.0143 - acc: 0.9999 - val_loss: 0.0404 - val_acc: 0.9916\n",
      "Epoch 47/200\n",
      "27810/27810 [==============================] - ETA: 0s - loss: 0.0142 - acc: 0.9999\n",
      "Epoch 00047: val_acc did not improve from 0.99320\n",
      "27810/27810 [==============================] - 450s 16ms/sample - loss: 0.0142 - acc: 0.9999 - val_loss: 0.0376 - val_acc: 0.9919\n",
      "Epoch 48/200\n",
      "27810/27810 [==============================] - ETA: 0s - loss: 0.0141 - acc: 0.9999\n",
      "Epoch 00048: val_acc did not improve from 0.99320\n",
      "27810/27810 [==============================] - 442s 16ms/sample - loss: 0.0141 - acc: 0.9999 - val_loss: 0.0402 - val_acc: 0.9926\n",
      "Epoch 00048: early stopping\n"
     ]
    }
   ],
   "source": [
    "# Training the model\n",
    "#model.load_weights(\"M-weights-improvement-19-0.93.hdf5\")\n",
    "history=model.fit(X_train,\n",
    "          Y_train,\n",
    "          batch_size=batch_size,\n",
    "          validation_split=0.1,\n",
    "          epochs=epochs,\n",
    "          callbacks=callbacks_list)\n"
   ]
  },
  {
   "cell_type": "code",
   "execution_count": 12,
   "metadata": {},
   "outputs": [
    {
     "name": "stderr",
     "output_type": "stream",
     "text": [
      "findfont: Font family ['Bitstream Vera Sans'] not found. Falling back to DejaVu Sans.\n",
      "findfont: Font family ['Bitstream Vera Sans'] not found. Falling back to DejaVu Sans.\n",
      "findfont: Font family ['Bitstream Vera Sans'] not found. Falling back to DejaVu Sans.\n"
     ]
    },
    {
     "data": {
      "image/png": "[encoded data removed]",
      "text/plain": [
       "<Figure size 864x576 with 1 Axes>"
      ]
     },
     "metadata": {
      "needs_background": "light"
     },
     "output_type": "display_data"
    },
    {
     "data": {
      "image/png": "[encoded data removed]",
      "text/plain": [
       "<Figure size 864x576 with 1 Axes>"
      ]
     },
     "metadata": {
      "needs_background": "light"
     },
     "output_type": "display_data"
    }
   ],
   "source": [
    "########画图\n",
    "import matplotlib\n",
    "import matplotlib.pyplot as plt\n",
    "from sklearn import metrics\n",
    "acc = history.history['acc']     #获取训练集准确性数据\n",
    "val_acc = history.history['val_acc']    #获取验证集准确性数据\n",
    "loss = history.history['loss']          #获取训练集错误值数据\n",
    "val_loss = history.history['val_loss']  #获取验证集错误值数据\n",
    "font = {\n",
    "    'family' : 'Bitstream Vera Sans',\n",
    "    'weight' : 'bold',\n",
    "    'size'   : 18\n",
    "}\n",
    "matplotlib.rc('font', **font)\n",
    "\n",
    "width = 12\n",
    "height = 8\n",
    "plt.figure(figsize=(width, height))\n",
    "epochs = range(1,len(acc)+1)\n",
    "plt.plot(epochs,acc,'r',label='Trainning acc',linewidth=2)     #以epochs为横坐标，以训练集准确性为纵坐标\n",
    "plt.plot(epochs,val_acc,'b--',label='Vaildation acc',linewidth=2) #以epochs为横坐标，以验证集准确性为纵坐标\n",
    "plt.legend(loc='best', shadow=True)   #绘制图例，即标明图中的线段代表何种含义\n",
    "plt.title(\"Training session's progress over epochs\")\n",
    "plt.ylabel('Training Progress (Accuracy values)')\n",
    "plt.xlabel('Training epochs')\n",
    "plt.ylim([0.6,1])\n",
    "\n",
    "plt.figure(figsize=(width, height))\n",
    "plt.plot(epochs,loss,'r',label='Trainning loss',linewidth=2)\n",
    "plt.plot(epochs,val_loss,'b--',label='Vaildation loss',linewidth=2)\n",
    "plt.legend(loc='best', shadow=True)   #绘制图例，即标明图中的线段代表何种含义\n",
    "plt.title(\"Training session's progress over epochs\")\n",
    "plt.ylabel('Training Progress (Loss values)')\n",
    "plt.xlabel('Training epochs') \n",
    "plt.show()    #显示所有图表"
   ]
  },
  {
   "cell_type": "code",
   "execution_count": 13,
   "metadata": {},
   "outputs": [],
   "source": [
    "def plot_confusion_matrix(cm, classes,\n",
    "                          normalize=False,\n",
    "                          title='Confusion matrix',\n",
    "                          cmap=plt.cm.Blues):\n",
    "    if normalize:\n",
    "        cm = cm.astype('float') / cm.sum(axis=1)[:, np.newaxis]\n",
    "\n",
    "    plt.imshow(cm, interpolation='nearest', cmap=cmap)\n",
    "    plt.title(title)\n",
    "    plt.colorbar()\n",
    "    tick_marks = np.arange(len(classes))\n",
    "    plt.xticks(tick_marks, classes, rotation=90)\n",
    "    plt.yticks(tick_marks, classes)\n",
    "\n",
    "    fmt = '.2f' if normalize else 'd'\n",
    "    thresh = cm.max() / 2.\n",
    "    for i, j in itertools.product(range(cm.shape[0]), range(cm.shape[1])):\n",
    "        plt.text(j, i, format(cm[i, j], fmt),\n",
    "                 horizontalalignment=\"center\",\n",
    "                 color=\"white\" if cm[i, j] > thresh else \"black\")\n",
    "\n",
    "    plt.tight_layout()\n",
    "    plt.ylabel('True label')\n",
    "    plt.xlabel('Predicted label')"
   ]
  },
  {
   "cell_type": "code",
   "execution_count": 14,
   "metadata": {},
   "outputs": [
    {
     "name": "stdout",
     "output_type": "stream",
     "text": [
      "acc: 99.62%\n"
     ]
    },
    {
     "ename": "AttributeError",
     "evalue": "'Functional' object has no attribute 'predict_classes'",
     "output_type": "error",
     "traceback": [
      "\u001b[1;31m---------------------------------------------------------------------------\u001b[0m",
      "\u001b[1;31mAttributeError\u001b[0m                            Traceback (most recent call last)",
      "\u001b[1;32m<ipython-input-14-cc54c5cf9ee2>\u001b[0m in \u001b[0;36m<module>\u001b[1;34m\u001b[0m\n\u001b[0;32m      7\u001b[0m \u001b[1;33m\u001b[0m\u001b[0m\n\u001b[0;32m      8\u001b[0m \u001b[1;31m# confusion matrix\u001b[0m\u001b[1;33m\u001b[0m\u001b[1;33m\u001b[0m\u001b[1;33m\u001b[0m\u001b[0m\n\u001b[1;32m----> 9\u001b[1;33m \u001b[0mY_pred\u001b[0m\u001b[1;33m=\u001b[0m\u001b[0mmodel\u001b[0m\u001b[1;33m.\u001b[0m\u001b[0mpredict_classes\u001b[0m\u001b[1;33m(\u001b[0m\u001b[0mX_test\u001b[0m\u001b[1;33m)\u001b[0m\u001b[1;33m\u001b[0m\u001b[1;33m\u001b[0m\u001b[0m\n\u001b[0m\u001b[0;32m     10\u001b[0m \u001b[0mprint\u001b[0m\u001b[1;33m(\u001b[0m\u001b[0mY_pred\u001b[0m\u001b[1;33m.\u001b[0m\u001b[0mshape\u001b[0m\u001b[1;33m)\u001b[0m\u001b[1;33m\u001b[0m\u001b[1;33m\u001b[0m\u001b[0m\n",
      "\u001b[1;31mAttributeError\u001b[0m: 'Functional' object has no attribute 'predict_classes'"
     ]
    }
   ],
   "source": [
    "#model2.load_weights(\"M2-weights-improvement-45-0.97.hdf5\")\n",
    "model.compile(loss='sparse_categorical_crossentropy',\n",
    "              optimizer='Adam',\n",
    "              metrics=['accuracy'])\n",
    "scores = model.evaluate(X_test, Y_test, verbose=0)\n",
    "print(\"%s: %.2f%%\" % (model.metrics_names[1], scores[1]*100))\n",
    "\n",
    "# confusion matrix\n",
    "Y_pred=model.predict_classes(X_test)\n",
    "print(Y_pred.shape)"
   ]
  },
  {
   "cell_type": "code",
   "execution_count": null,
   "metadata": {},
   "outputs": [],
   "source": [
    "from sklearn.metrics import confusion_matrix\n",
    "cm_cmap=plt.cm.Greens\n",
    "cm = confusion_matrix(Y_test,Y_pred)\n",
    "\n",
    "\n",
    "print('| Confusion Matrix |')\n",
    "print('--------------------')\n",
    "print('\\n {}'.format(cm))\n",
    "class_labels=['Pre','Mid','Post']\n",
    "# plot confusin matrix\n",
    "plt.figure(figsize=(8,8))\n",
    "plt.grid(b=False)\n",
    "plot_confusion_matrix(cm, classes=class_labels, normalize=True, title='Normalized confusion matrix', cmap = cm_cmap)\n",
    "plt.show()\n",
    "class_labels=[0,1,2]\n",
    "# get classification report\n",
    "print('| Classifiction Report |')\n",
    "print('-------------------------')\n",
    "classification_report = metrics.classification_report(Y_test,Y_pred,labels =class_labels)\n",
    "# store report in results\n",
    "\n",
    "\n",
    "print(classification_report)"
   ]
  },
  {
   "cell_type": "code",
   "execution_count": null,
   "metadata": {},
   "outputs": [],
   "source": []
  }
 ],
 "metadata": {
  "anaconda-cloud": {},
  "kernelspec": {
   "display_name": "Python 3",
   "language": "python",
   "name": "python3"
  },
  "language_info": {
   "codemirror_mode": {
    "name": "ipython",
    "version": 3
   },
   "file_extension": ".py",
   "mimetype": "text/x-python",
   "name": "python",
   "nbconvert_exporter": "python",
   "pygments_lexer": "ipython3",
   "version": "3.7.9"
  }
 },
 "nbformat": 4,
 "nbformat_minor": 1
}
