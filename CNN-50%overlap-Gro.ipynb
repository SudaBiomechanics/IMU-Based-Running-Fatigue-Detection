{
 "cells": [
  {
   "cell_type": "markdown",
   "metadata": {},
   "source": [
    "# CNN Fatiuge"
   ]
  },
  {
   "cell_type": "code",
   "execution_count": 1,
   "metadata": {},
   "outputs": [],
   "source": [
    "import tensorflow.compat.v1  as tf\n",
    "import numpy as np\n",
    "import os,sys\n",
    "tf.compat.v1.disable_eager_execution()\n",
    "import scipy.io as scio"
   ]
  },
  {
   "cell_type": "code",
   "execution_count": 2,
   "metadata": {},
   "outputs": [
    {
     "name": "stdout",
     "output_type": "stream",
     "text": [
      "(34334, 200, 9)\n",
      "(34334, 1)\n"
     ]
    }
   ],
   "source": [
    "X_train_mat = scio.loadmat('X_train-3Classes-50%overlap.mat')\n",
    "key_name = list(X_train_mat.keys())[-1]\n",
    "X_train=X_train_mat[key_name]\n",
    "print(X_train.shape)\n",
    "\n",
    "Y_train_mat = scio.loadmat('Y_train-3Classes-50%overlap.mat')\n",
    "key_name = list(Y_train_mat.keys())[-1]\n",
    "Y_train=Y_train_mat[key_name]\n",
    "print(Y_train.shape)"
   ]
  },
  {
   "cell_type": "code",
   "execution_count": 3,
   "metadata": {},
   "outputs": [
    {
     "name": "stdout",
     "output_type": "stream",
     "text": [
      "(34334, 200, 3)\n",
      "(34334, 1)\n"
     ]
    }
   ],
   "source": [
    "#只取前列数据\n",
    "X_train=X_train[:,:,3:6]#只取前\n",
    "print(X_train.shape)\n",
    "print(Y_train.shape)"
   ]
  },
  {
   "cell_type": "code",
   "execution_count": 4,
   "metadata": {},
   "outputs": [
    {
     "name": "stdout",
     "output_type": "stream",
     "text": [
      "(30900, 200, 3)\n",
      "(30900, 1)\n",
      "(3434, 200, 3)\n",
      "(3434, 1)\n"
     ]
    }
   ],
   "source": [
    "from sklearn.model_selection import train_test_split\n",
    "X_train, X_test, Y_train, Y_test = train_test_split(X_train, Y_train, test_size = 0.1, random_state = 0)\n",
    "#X_test, X_valid, Y_test, Y_valid = train_test_split(X_test, Y_test, test_size = 0.5, random_state = 0)\n",
    "print(X_train.shape)\n",
    "print(Y_train.shape)\n",
    "print(X_test.shape)\n",
    "print(Y_test.shape)"
   ]
  },
  {
   "cell_type": "code",
   "execution_count": 5,
   "metadata": {},
   "outputs": [],
   "source": [
    "X_train=X_train.reshape(-1,200,3,1)\n",
    "X_test=X_test.reshape(-1,200,3,1)"
   ]
  },
  {
   "cell_type": "code",
   "execution_count": 6,
   "metadata": {},
   "outputs": [
    {
     "name": "stdout",
     "output_type": "stream",
     "text": [
      "WARNING:tensorflow:From D:\\Anaconda3\\envs\\tensorflow1\\lib\\site-packages\\tensorflow\\python\\compat\\v2_compat.py:96: disable_resource_variables (from tensorflow.python.ops.variable_scope) is deprecated and will be removed in a future version.\n",
      "Instructions for updating:\n",
      "non-resource variables are not supported in the long term\n"
     ]
    }
   ],
   "source": [
    "np.random.seed(42)\n",
    "import tensorflow.compat.v1 as tf\n",
    "tf.disable_v2_behavior()\n",
    "tf.set_random_seed(42)\n",
    "# Configuring a session\n",
    "session_conf = tf.ConfigProto(\n",
    "    intra_op_parallelism_threads=1,\n",
    "    inter_op_parallelism_threads=1\n",
    ")"
   ]
  },
  {
   "cell_type": "code",
   "execution_count": 7,
   "metadata": {},
   "outputs": [],
   "source": [
    "# Import Keras\n",
    "from __future__ import print_function\n",
    "import keras\n",
    "from keras import regularizers\n",
    "from keras.models import Sequential\n",
    "from keras.layers import Dense, Dropout,Flatten, Reshape, Softmax\n",
    "from keras.layers import Conv2D, MaxPooling2D, Conv1D, MaxPooling1D, TimeDistributed,LSTM,Bidirectional,BatchNormalization\n",
    "#from keras import backend as K\n",
    "from tensorflow.compat.v1.keras import backend as K\n",
    "from attention import Attention\n",
    "sess = tf.Session(graph=tf.get_default_graph(), config=session_conf)\n",
    "K.set_session(sess)\n",
    "\n",
    "# callbacks:\n",
    "from keras.callbacks import ModelCheckpoint\n",
    "from keras.callbacks import TensorBoard\n",
    "from keras.callbacks import EarlyStopping\n",
    "from keras.callbacks import ReduceLROnPlateau"
   ]
  },
  {
   "cell_type": "code",
   "execution_count": 8,
   "metadata": {},
   "outputs": [],
   "source": [
    "# Utility function to count the number of classes\n",
    "def _count_classes(y):\n",
    "    return len(set([tuple(category) for category in y]))"
   ]
  },
  {
   "cell_type": "code",
   "execution_count": 9,
   "metadata": {},
   "outputs": [
    {
     "name": "stdout",
     "output_type": "stream",
     "text": [
      "200 3 30900\n",
      "3\n"
     ]
    }
   ],
   "source": [
    "# Initializing parameters\n",
    "epochs = 200\n",
    "batch_size = 256\n",
    "timesteps = 200\n",
    "input_dim = len(X_train[0][0])\n",
    "n_classes = _count_classes(Y_train)\n",
    "#input_shape = (timesteps, input_dim)\n",
    "\n",
    "print(timesteps,input_dim,len(X_train))\n",
    "print(n_classes)"
   ]
  },
  {
   "cell_type": "code",
   "execution_count": 10,
   "metadata": {},
   "outputs": [
    {
     "name": "stdout",
     "output_type": "stream",
     "text": [
      "Model: \"sequential\"\n",
      "_________________________________________________________________\n",
      "Layer (type)                 Output Shape              Param #   \n",
      "=================================================================\n",
      "conv2d (Conv2D)              (None, 100, 3, 32)        608       \n",
      "_________________________________________________________________\n",
      "max_pooling2d (MaxPooling2D) (None, 50, 3, 32)         0         \n",
      "_________________________________________________________________\n",
      "conv2d_1 (Conv2D)            (None, 50, 3, 64)         18496     \n",
      "_________________________________________________________________\n",
      "conv2d_2 (Conv2D)            (None, 50, 3, 128)        24704     \n",
      "_________________________________________________________________\n",
      "max_pooling2d_1 (MaxPooling2 (None, 25, 3, 128)        0         \n",
      "_________________________________________________________________\n",
      "conv2d_3 (Conv2D)            (None, 25, 1, 128)        49280     \n",
      "_________________________________________________________________\n",
      "flatten (Flatten)            (None, 3200)              0         \n",
      "_________________________________________________________________\n",
      "dense (Dense)                (None, 3)                 9603      \n",
      "=================================================================\n",
      "Total params: 102,691\n",
      "Trainable params: 102,691\n",
      "Non-trainable params: 0\n",
      "_________________________________________________________________\n"
     ]
    }
   ],
   "source": [
    "# Initiliazing the sequential model\n",
    "input_shape = (256, 200, 3, 1)\n",
    "model = Sequential()\n",
    "\n",
    "model.add(Conv2D(32,(18,1),activation='relu',strides=(2,1),padding='SAME',input_shape=(200,3,1)))\n",
    "model.add(MaxPooling2D(pool_size=(2, 1)))\n",
    "model.add(Conv2D(64, (9, 1), activation='relu',padding='SAME'))\n",
    "model.add(Conv2D(128, (3, 1), activation='relu',padding='SAME'))\n",
    "model.add(MaxPooling2D(pool_size=(2, 1)))\n",
    "model.add(Conv2D(128, (1, 3), activation='relu', padding='VALID'))\n",
    "model.add(Flatten())\n",
    "\n",
    "# Adding a dense output layer with sigmoid activation\n",
    "model.add(Dense(n_classes, activation='softmax',kernel_regularizer=regularizers.l2(0.01),\n",
    "                activity_regularizer=regularizers.l1(0.01)))\n",
    "\n",
    "model.summary()\n",
    "#-------------------\n",
    "# Compiling the model\n",
    "model.compile(loss='sparse_categorical_crossentropy',\n",
    "              optimizer='rmsprop',\n",
    "              metrics=['accuracy'])#二分类：optimizer='adam', loss='binary_crossentropy'；多分类时激活函数改为softmax。损失函数改为：loss=‘categorical_crossentropy’\n",
    "\n",
    "filepath=\"CNN-weights-improvement-{epoch:02d}-{val_acc:.2f}.hdf5\"\n",
    "\n",
    "mc = ModelCheckpoint(filepath, monitor='val_acc', verbose=1, save_best_only=True, mode='max')\n",
    "\n",
    "tb = TensorBoard(log_dir='./logs',  # log 目录\n",
    "                 histogram_freq=1,  # 按照何等频率（epoch）来计算直方图，0为不计算\n",
    "                 batch_size=64,     # 用多大量的数据计算直方图\n",
    "                 write_graph=True,  # 是否存储网络结构图\n",
    "                 write_grads=True, # 是否可视化梯度直方图\n",
    "                 write_images=True,# 是否可视化参数\n",
    "                 embeddings_freq=0,\n",
    "                 embeddings_layer_names=None,\n",
    "                 embeddings_metadata=None)\n",
    "\n",
    "es=EarlyStopping(monitor='val_loss', patience=14, verbose=2)\n",
    "rp=ReduceLROnPlateau(\n",
    "    monitor='val_acc',\n",
    "    factor=0.25,\n",
    "    patience=8,#\n",
    "    verbose=2,\n",
    "    mode='auto',\n",
    "    min_delta=0.0001,\n",
    "    cooldown=0,\n",
    "    min_lr=0\n",
    ")\n",
    "\n",
    "# callbacks_list = [mc,tb,es,rp]\n",
    "callbacks_list =[mc,es,rp]"
   ]
  },
  {
   "cell_type": "code",
   "execution_count": 11,
   "metadata": {
    "scrolled": false
   },
   "outputs": [
    {
     "name": "stdout",
     "output_type": "stream",
     "text": [
      "Train on 27810 samples, validate on 3090 samples\n",
      "Epoch 1/200\n",
      "27810/27810 [==============================] - ETA: 0s - loss: 1.0956 - acc: 0.4384WARNING:tensorflow:From D:\\Anaconda3\\envs\\tensorflow1\\lib\\site-packages\\tensorflow\\python\\keras\\engine\\training_v1.py:2048: Model.state_updates (from tensorflow.python.keras.engine.training) is deprecated and will be removed in a future version.\n",
      "Instructions for updating:\n",
      "This property should not be used in TensorFlow 2.0, as updates are applied automatically.\n",
      "\n",
      "Epoch 00001: val_acc improved from -inf to 0.48058, saving model to CNN-weights-improvement-01-0.48.hdf5\n",
      "27810/27810 [==============================] - 42s 2ms/sample - loss: 1.0956 - acc: 0.4384 - val_loss: 1.0214 - val_acc: 0.4806\n",
      "Epoch 2/200\n",
      "27810/27810 [==============================] - ETA: 0s - loss: 0.9690 - acc: 0.5422\n",
      "Epoch 00002: val_acc did not improve from 0.48058\n",
      "27810/27810 [==============================] - 42s 2ms/sample - loss: 0.9690 - acc: 0.5422 - val_loss: 1.0814 - val_acc: 0.4362\n",
      "Epoch 3/200\n",
      "27810/27810 [==============================] - ETA: 0s - loss: 0.8635 - acc: 0.5991\n",
      "Epoch 00003: val_acc improved from 0.48058 to 0.50874, saving model to CNN-weights-improvement-03-0.51.hdf5\n",
      "27810/27810 [==============================] - 41s 1ms/sample - loss: 0.8635 - acc: 0.5991 - val_loss: 0.9737 - val_acc: 0.5087\n",
      "Epoch 4/200\n",
      "27810/27810 [==============================] - ETA: 0s - loss: 0.7573 - acc: 0.6586\n",
      "Epoch 00004: val_acc improved from 0.50874 to 0.60906, saving model to CNN-weights-improvement-04-0.61.hdf5\n",
      "27810/27810 [==============================] - 40s 1ms/sample - loss: 0.7573 - acc: 0.6586 - val_loss: 0.8191 - val_acc: 0.6091\n",
      "Epoch 5/200\n",
      "27810/27810 [==============================] - ETA: 0s - loss: 0.6690 - acc: 0.7212\n",
      "Epoch 00005: val_acc improved from 0.60906 to 0.73236, saving model to CNN-weights-improvement-05-0.73.hdf5\n",
      "27810/27810 [==============================] - 40s 1ms/sample - loss: 0.6690 - acc: 0.7212 - val_loss: 0.6601 - val_acc: 0.7324\n",
      "Epoch 6/200\n",
      "27810/27810 [==============================] - ETA: 0s - loss: 0.5933 - acc: 0.7615\n",
      "Epoch 00006: val_acc improved from 0.73236 to 0.83010, saving model to CNN-weights-improvement-06-0.83.hdf5\n",
      "27810/27810 [==============================] - 40s 1ms/sample - loss: 0.5933 - acc: 0.7615 - val_loss: 0.4752 - val_acc: 0.8301\n",
      "Epoch 7/200\n",
      "27810/27810 [==============================] - ETA: 0s - loss: 0.5329 - acc: 0.7917\n",
      "Epoch 00007: val_acc improved from 0.83010 to 0.85566, saving model to CNN-weights-improvement-07-0.86.hdf5\n",
      "27810/27810 [==============================] - 40s 1ms/sample - loss: 0.5329 - acc: 0.7917 - val_loss: 0.4176 - val_acc: 0.8557\n",
      "Epoch 8/200\n",
      "27810/27810 [==============================] - ETA: 0s - loss: 0.4804 - acc: 0.8195\n",
      "Epoch 00008: val_acc did not improve from 0.85566\n",
      "27810/27810 [==============================] - 40s 1ms/sample - loss: 0.4804 - acc: 0.8195 - val_loss: 0.4716 - val_acc: 0.8288\n",
      "Epoch 9/200\n",
      "27810/27810 [==============================] - ETA: 0s - loss: 0.4334 - acc: 0.8381\n",
      "Epoch 00009: val_acc did not improve from 0.85566\n",
      "27810/27810 [==============================] - 40s 1ms/sample - loss: 0.4334 - acc: 0.8381 - val_loss: 0.5103 - val_acc: 0.7951\n",
      "Epoch 10/200\n",
      "27810/27810 [==============================] - ETA: 0s - loss: 0.4035 - acc: 0.8554\n",
      "Epoch 00010: val_acc did not improve from 0.85566\n",
      "27810/27810 [==============================] - 40s 1ms/sample - loss: 0.4035 - acc: 0.8554 - val_loss: 0.4762 - val_acc: 0.8291\n",
      "Epoch 11/200\n",
      "27810/27810 [==============================] - ETA: 0s - loss: 0.3659 - acc: 0.8703\n",
      "Epoch 00011: val_acc improved from 0.85566 to 0.90615, saving model to CNN-weights-improvement-11-0.91.hdf5\n",
      "27810/27810 [==============================] - 40s 1ms/sample - loss: 0.3659 - acc: 0.8703 - val_loss: 0.2962 - val_acc: 0.9061\n",
      "Epoch 12/200\n",
      "27810/27810 [==============================] - ETA: 0s - loss: 0.3422 - acc: 0.8803\n",
      "Epoch 00012: val_acc did not improve from 0.90615\n",
      "27810/27810 [==============================] - 40s 1ms/sample - loss: 0.3422 - acc: 0.8803 - val_loss: 0.5410 - val_acc: 0.7932\n",
      "Epoch 13/200\n",
      "27810/27810 [==============================] - ETA: 0s - loss: 0.3245 - acc: 0.8875\n",
      "Epoch 00013: val_acc did not improve from 0.90615\n",
      "27810/27810 [==============================] - 41s 1ms/sample - loss: 0.3245 - acc: 0.8875 - val_loss: 0.4747 - val_acc: 0.8165\n",
      "Epoch 14/200\n",
      "27810/27810 [==============================] - ETA: 0s - loss: 0.3048 - acc: 0.8963\n",
      "Epoch 00014: val_acc improved from 0.90615 to 0.91845, saving model to CNN-weights-improvement-14-0.92.hdf5\n",
      "27810/27810 [==============================] - 42s 2ms/sample - loss: 0.3048 - acc: 0.8963 - val_loss: 0.2675 - val_acc: 0.9184\n",
      "Epoch 15/200\n",
      "27810/27810 [==============================] - ETA: 0s - loss: 0.2803 - acc: 0.9080\n",
      "Epoch 00015: val_acc did not improve from 0.91845\n",
      "27810/27810 [==============================] - 41s 1ms/sample - loss: 0.2803 - acc: 0.9080 - val_loss: 0.3625 - val_acc: 0.8699\n",
      "Epoch 16/200\n",
      "27810/27810 [==============================] - ETA: 0s - loss: 0.2653 - acc: 0.9122\n",
      "Epoch 00016: val_acc did not improve from 0.91845\n",
      "27810/27810 [==============================] - 41s 1ms/sample - loss: 0.2653 - acc: 0.9122 - val_loss: 0.2580 - val_acc: 0.9146\n",
      "Epoch 17/200\n",
      "27810/27810 [==============================] - ETA: 0s - loss: 0.2513 - acc: 0.9187\n",
      "Epoch 00017: val_acc improved from 0.91845 to 0.92686, saving model to CNN-weights-improvement-17-0.93.hdf5\n",
      "27810/27810 [==============================] - 41s 1ms/sample - loss: 0.2513 - acc: 0.9187 - val_loss: 0.2369 - val_acc: 0.9269\n",
      "Epoch 18/200\n",
      "27810/27810 [==============================] - ETA: 0s - loss: 0.2384 - acc: 0.9226\n",
      "Epoch 00018: val_acc did not improve from 0.92686\n",
      "27810/27810 [==============================] - 41s 1ms/sample - loss: 0.2384 - acc: 0.9226 - val_loss: 0.3435 - val_acc: 0.8780\n",
      "Epoch 19/200\n",
      "27810/27810 [==============================] - ETA: 0s - loss: 0.2241 - acc: 0.9276\n",
      "Epoch 00019: val_acc did not improve from 0.92686\n",
      "27810/27810 [==============================] - 41s 1ms/sample - loss: 0.2241 - acc: 0.9276 - val_loss: 0.2906 - val_acc: 0.8990\n",
      "Epoch 20/200\n",
      "27810/27810 [==============================] - ETA: 0s - loss: 0.2130 - acc: 0.9335\n",
      "Epoch 00020: val_acc did not improve from 0.92686\n",
      "27810/27810 [==============================] - 41s 1ms/sample - loss: 0.2130 - acc: 0.9335 - val_loss: 0.2849 - val_acc: 0.9045\n",
      "Epoch 21/200\n",
      "27810/27810 [==============================] - ETA: 0s - loss: 0.2022 - acc: 0.9375\n",
      "Epoch 00021: val_acc improved from 0.92686 to 0.93948, saving model to CNN-weights-improvement-21-0.94.hdf5\n",
      "27810/27810 [==============================] - 42s 2ms/sample - loss: 0.2022 - acc: 0.9375 - val_loss: 0.2015 - val_acc: 0.9395\n",
      "Epoch 22/200\n",
      "27810/27810 [==============================] - ETA: 0s - loss: 0.1892 - acc: 0.9416\n",
      "Epoch 00022: val_acc did not improve from 0.93948\n",
      "27810/27810 [==============================] - 43s 2ms/sample - loss: 0.1892 - acc: 0.9416 - val_loss: 0.3287 - val_acc: 0.8864\n",
      "Epoch 23/200\n",
      "27810/27810 [==============================] - ETA: 0s - loss: 0.1828 - acc: 0.9453\n",
      "Epoch 00023: val_acc did not improve from 0.93948\n",
      "27810/27810 [==============================] - 45s 2ms/sample - loss: 0.1828 - acc: 0.9453 - val_loss: 0.2325 - val_acc: 0.9252\n",
      "Epoch 24/200\n",
      "27810/27810 [==============================] - ETA: 0s - loss: 0.1713 - acc: 0.9488\n",
      "Epoch 00024: val_acc did not improve from 0.93948\n",
      "27810/27810 [==============================] - 42s 1ms/sample - loss: 0.1713 - acc: 0.9488 - val_loss: 0.2044 - val_acc: 0.9379\n",
      "Epoch 25/200\n",
      "27810/27810 [==============================] - ETA: 0s - loss: 0.1733 - acc: 0.9498\n",
      "Epoch 00025: val_acc improved from 0.93948 to 0.94142, saving model to CNN-weights-improvement-25-0.94.hdf5\n",
      "27810/27810 [==============================] - 41s 1ms/sample - loss: 0.1733 - acc: 0.9498 - val_loss: 0.1928 - val_acc: 0.9414\n",
      "Epoch 26/200\n",
      "27810/27810 [==============================] - ETA: 0s - loss: 0.1600 - acc: 0.9534\n",
      "Epoch 00026: val_acc did not improve from 0.94142\n",
      "27810/27810 [==============================] - 43s 2ms/sample - loss: 0.1600 - acc: 0.9534 - val_loss: 0.1992 - val_acc: 0.9392\n",
      "Epoch 27/200\n"
     ]
    },
    {
     "name": "stdout",
     "output_type": "stream",
     "text": [
      "27810/27810 [==============================] - ETA: 0s - loss: 0.1526 - acc: 0.9568\n",
      "Epoch 00027: val_acc did not improve from 0.94142\n",
      "27810/27810 [==============================] - 41s 1ms/sample - loss: 0.1526 - acc: 0.9568 - val_loss: 0.2857 - val_acc: 0.9078\n",
      "Epoch 28/200\n",
      "27810/27810 [==============================] - ETA: 0s - loss: 0.1484 - acc: 0.9566\n",
      "Epoch 00028: val_acc did not improve from 0.94142\n",
      "27810/27810 [==============================] - 41s 1ms/sample - loss: 0.1484 - acc: 0.9566 - val_loss: 0.2361 - val_acc: 0.9217\n",
      "Epoch 29/200\n",
      "27810/27810 [==============================] - ETA: 0s - loss: 0.1439 - acc: 0.9603\n",
      "Epoch 00029: val_acc did not improve from 0.94142\n",
      "27810/27810 [==============================] - 43s 2ms/sample - loss: 0.1439 - acc: 0.9603 - val_loss: 0.3308 - val_acc: 0.8951\n",
      "Epoch 30/200\n",
      "27810/27810 [==============================] - ETA: 0s - loss: 0.1348 - acc: 0.9630\n",
      "Epoch 00030: val_acc did not improve from 0.94142\n",
      "27810/27810 [==============================] - 43s 2ms/sample - loss: 0.1348 - acc: 0.9630 - val_loss: 0.3350 - val_acc: 0.8913\n",
      "Epoch 31/200\n",
      "27810/27810 [==============================] - ETA: 0s - loss: 0.1360 - acc: 0.9639\n",
      "Epoch 00031: val_acc improved from 0.94142 to 0.95049, saving model to CNN-weights-improvement-31-0.95.hdf5\n",
      "27810/27810 [==============================] - 41s 1ms/sample - loss: 0.1360 - acc: 0.9639 - val_loss: 0.1626 - val_acc: 0.9505\n",
      "Epoch 32/200\n",
      "27810/27810 [==============================] - ETA: 0s - loss: 0.1289 - acc: 0.9664\n",
      "Epoch 00032: val_acc did not improve from 0.95049\n",
      "27810/27810 [==============================] - 42s 2ms/sample - loss: 0.1289 - acc: 0.9664 - val_loss: 0.1658 - val_acc: 0.9505\n",
      "Epoch 33/200\n",
      "27810/27810 [==============================] - ETA: 0s - loss: 0.1210 - acc: 0.9690\n",
      "Epoch 00033: val_acc did not improve from 0.95049\n",
      "27810/27810 [==============================] - 42s 2ms/sample - loss: 0.1210 - acc: 0.9690 - val_loss: 0.1680 - val_acc: 0.9498\n",
      "Epoch 34/200\n",
      "27810/27810 [==============================] - ETA: 0s - loss: 0.1166 - acc: 0.9684\n",
      "Epoch 00034: val_acc improved from 0.95049 to 0.95113, saving model to CNN-weights-improvement-34-0.95.hdf5\n",
      "27810/27810 [==============================] - 40s 1ms/sample - loss: 0.1166 - acc: 0.9684 - val_loss: 0.1679 - val_acc: 0.9511\n",
      "Epoch 35/200\n",
      "27810/27810 [==============================] - ETA: 0s - loss: 0.1142 - acc: 0.9718\n",
      "Epoch 00035: val_acc improved from 0.95113 to 0.95599, saving model to CNN-weights-improvement-35-0.96.hdf5\n",
      "27810/27810 [==============================] - 40s 1ms/sample - loss: 0.1142 - acc: 0.9718 - val_loss: 0.1473 - val_acc: 0.9560\n",
      "Epoch 36/200\n",
      "27810/27810 [==============================] - ETA: 0s - loss: 0.1103 - acc: 0.9731\n",
      "Epoch 00036: val_acc did not improve from 0.95599\n",
      "27810/27810 [==============================] - 40s 1ms/sample - loss: 0.1103 - acc: 0.9731 - val_loss: 0.1965 - val_acc: 0.9417\n",
      "Epoch 37/200\n",
      "27810/27810 [==============================] - ETA: 0s - loss: 0.1043 - acc: 0.9758\n",
      "Epoch 00037: val_acc did not improve from 0.95599\n",
      "27810/27810 [==============================] - 40s 1ms/sample - loss: 0.1043 - acc: 0.9758 - val_loss: 0.1684 - val_acc: 0.9469\n",
      "Epoch 38/200\n",
      "27810/27810 [==============================] - ETA: 0s - loss: 0.1089 - acc: 0.9729\n",
      "Epoch 00038: val_acc did not improve from 0.95599\n",
      "27810/27810 [==============================] - 40s 1ms/sample - loss: 0.1089 - acc: 0.9729 - val_loss: 0.2185 - val_acc: 0.9307\n",
      "Epoch 39/200\n",
      "27810/27810 [==============================] - ETA: 0s - loss: 0.1026 - acc: 0.9745\n",
      "Epoch 00039: val_acc did not improve from 0.95599\n",
      "27810/27810 [==============================] - 40s 1ms/sample - loss: 0.1026 - acc: 0.9745 - val_loss: 0.1583 - val_acc: 0.9528\n",
      "Epoch 40/200\n",
      "27810/27810 [==============================] - ETA: 0s - loss: 0.0953 - acc: 0.9773\n",
      "Epoch 00040: val_acc did not improve from 0.95599\n",
      "27810/27810 [==============================] - 40s 1ms/sample - loss: 0.0953 - acc: 0.9773 - val_loss: 0.1536 - val_acc: 0.9540\n",
      "Epoch 41/200\n",
      "27810/27810 [==============================] - ETA: 0s - loss: 0.0918 - acc: 0.9793\n",
      "Epoch 00041: val_acc did not improve from 0.95599\n",
      "27810/27810 [==============================] - 40s 1ms/sample - loss: 0.0918 - acc: 0.9793 - val_loss: 0.1581 - val_acc: 0.9508\n",
      "Epoch 42/200\n",
      "27810/27810 [==============================] - ETA: 0s - loss: 0.0899 - acc: 0.9789\n",
      "Epoch 00042: val_acc did not improve from 0.95599\n",
      "27810/27810 [==============================] - 39s 1ms/sample - loss: 0.0899 - acc: 0.9789 - val_loss: 0.1582 - val_acc: 0.9553\n",
      "Epoch 43/200\n",
      "27810/27810 [==============================] - ETA: 0s - loss: 0.0871 - acc: 0.9799\n",
      "Epoch 00043: val_acc did not improve from 0.95599\n",
      "\n",
      "Epoch 00043: ReduceLROnPlateau reducing learning rate to 0.0002500000118743628.\n",
      "27810/27810 [==============================] - 40s 1ms/sample - loss: 0.0871 - acc: 0.9799 - val_loss: 0.1647 - val_acc: 0.9521\n",
      "Epoch 44/200\n",
      "27810/27810 [==============================] - ETA: 0s - loss: 0.0484 - acc: 0.9963\n",
      "Epoch 00044: val_acc improved from 0.95599 to 0.96117, saving model to CNN-weights-improvement-44-0.96.hdf5\n",
      "27810/27810 [==============================] - 39s 1ms/sample - loss: 0.0484 - acc: 0.9963 - val_loss: 0.1416 - val_acc: 0.9612\n",
      "Epoch 45/200\n",
      "27810/27810 [==============================] - ETA: 0s - loss: 0.0429 - acc: 0.9969\n",
      "Epoch 00045: val_acc did not improve from 0.96117\n",
      "27810/27810 [==============================] - 39s 1ms/sample - loss: 0.0429 - acc: 0.9969 - val_loss: 0.1487 - val_acc: 0.9570\n",
      "Epoch 46/200\n",
      "27810/27810 [==============================] - ETA: 0s - loss: 0.0401 - acc: 0.9973\n",
      "Epoch 00046: val_acc did not improve from 0.96117\n",
      "27810/27810 [==============================] - 39s 1ms/sample - loss: 0.0401 - acc: 0.9973 - val_loss: 0.1458 - val_acc: 0.9589\n",
      "Epoch 47/200\n",
      "27810/27810 [==============================] - ETA: 0s - loss: 0.0381 - acc: 0.9978\n",
      "Epoch 00047: val_acc improved from 0.96117 to 0.96311, saving model to CNN-weights-improvement-47-0.96.hdf5\n",
      "27810/27810 [==============================] - 40s 1ms/sample - loss: 0.0381 - acc: 0.9978 - val_loss: 0.1387 - val_acc: 0.9631\n",
      "Epoch 48/200\n",
      "27810/27810 [==============================] - ETA: 0s - loss: 0.0366 - acc: 0.9979\n",
      "Epoch 00048: val_acc did not improve from 0.96311\n",
      "27810/27810 [==============================] - 40s 1ms/sample - loss: 0.0366 - acc: 0.9979 - val_loss: 0.1443 - val_acc: 0.9612\n",
      "Epoch 49/200\n",
      "27810/27810 [==============================] - ETA: 0s - loss: 0.0356 - acc: 0.9981\n",
      "Epoch 00049: val_acc did not improve from 0.96311\n",
      "27810/27810 [==============================] - 40s 1ms/sample - loss: 0.0356 - acc: 0.9981 - val_loss: 0.1392 - val_acc: 0.9592\n",
      "Epoch 50/200\n",
      "27810/27810 [==============================] - ETA: 0s - loss: 0.0340 - acc: 0.9983\n",
      "Epoch 00050: val_acc did not improve from 0.96311\n",
      "27810/27810 [==============================] - 39s 1ms/sample - loss: 0.0340 - acc: 0.9983 - val_loss: 0.1622 - val_acc: 0.9557\n",
      "Epoch 51/200\n",
      "27810/27810 [==============================] - ETA: 0s - loss: 0.0330 - acc: 0.9987\n",
      "Epoch 00051: val_acc did not improve from 0.96311\n",
      "27810/27810 [==============================] - 41s 1ms/sample - loss: 0.0330 - acc: 0.9987 - val_loss: 0.1485 - val_acc: 0.9586\n",
      "Epoch 52/200\n",
      "27810/27810 [==============================] - ETA: 0s - loss: 0.0324 - acc: 0.9985\n",
      "Epoch 00052: val_acc did not improve from 0.96311\n",
      "27810/27810 [==============================] - 44s 2ms/sample - loss: 0.0324 - acc: 0.9985 - val_loss: 0.1411 - val_acc: 0.9599\n",
      "Epoch 53/200\n",
      "27810/27810 [==============================] - ETA: 0s - loss: 0.0312 - acc: 0.9988\n",
      "Epoch 00053: val_acc did not improve from 0.96311\n",
      "27810/27810 [==============================] - 41s 1ms/sample - loss: 0.0312 - acc: 0.9988 - val_loss: 0.1472 - val_acc: 0.9586\n",
      "Epoch 54/200\n",
      "27810/27810 [==============================] - ETA: 0s - loss: 0.0307 - acc: 0.9987\n",
      "Epoch 00054: val_acc did not improve from 0.96311\n",
      "27810/27810 [==============================] - 41s 1ms/sample - loss: 0.0307 - acc: 0.9987 - val_loss: 0.1418 - val_acc: 0.9595\n",
      "Epoch 55/200\n",
      "27810/27810 [==============================] - ETA: 0s - loss: 0.0298 - acc: 0.9989\n",
      "Epoch 00055: val_acc did not improve from 0.96311\n",
      "\n",
      "Epoch 00055: ReduceLROnPlateau reducing learning rate to 6.25000029685907e-05.\n",
      "27810/27810 [==============================] - 42s 2ms/sample - loss: 0.0298 - acc: 0.9989 - val_loss: 0.1510 - val_acc: 0.9595\n"
     ]
    },
    {
     "name": "stdout",
     "output_type": "stream",
     "text": [
      "Epoch 56/200\n",
      "27810/27810 [==============================] - ETA: 0s - loss: 0.0267 - acc: 0.9995\n",
      "Epoch 00056: val_acc did not improve from 0.96311\n",
      "27810/27810 [==============================] - 54s 2ms/sample - loss: 0.0267 - acc: 0.9995 - val_loss: 0.1396 - val_acc: 0.9615\n",
      "Epoch 57/200\n",
      "27810/27810 [==============================] - ETA: 0s - loss: 0.0260 - acc: 0.9995\n",
      "Epoch 00057: val_acc did not improve from 0.96311\n",
      "27810/27810 [==============================] - 56s 2ms/sample - loss: 0.0260 - acc: 0.9995 - val_loss: 0.1414 - val_acc: 0.9612\n",
      "Epoch 58/200\n",
      "27810/27810 [==============================] - ETA: 0s - loss: 0.0257 - acc: 0.9995\n",
      "Epoch 00058: val_acc did not improve from 0.96311\n",
      "27810/27810 [==============================] - 55s 2ms/sample - loss: 0.0257 - acc: 0.9995 - val_loss: 0.1404 - val_acc: 0.9615\n",
      "Epoch 59/200\n",
      "27810/27810 [==============================] - ETA: 0s - loss: 0.0254 - acc: 0.9996\n",
      "Epoch 00059: val_acc did not improve from 0.96311\n",
      "27810/27810 [==============================] - 56s 2ms/sample - loss: 0.0254 - acc: 0.9996 - val_loss: 0.1398 - val_acc: 0.9608\n",
      "Epoch 60/200\n",
      "27810/27810 [==============================] - ETA: 0s - loss: 0.0251 - acc: 0.9995\n",
      "Epoch 00060: val_acc did not improve from 0.96311\n",
      "27810/27810 [==============================] - 55s 2ms/sample - loss: 0.0251 - acc: 0.9995 - val_loss: 0.1454 - val_acc: 0.9608\n",
      "Epoch 61/200\n",
      "27810/27810 [==============================] - ETA: 0s - loss: 0.0248 - acc: 0.9996\n",
      "Epoch 00061: val_acc did not improve from 0.96311\n",
      "27810/27810 [==============================] - 55s 2ms/sample - loss: 0.0248 - acc: 0.9996 - val_loss: 0.1420 - val_acc: 0.9615\n",
      "Epoch 00061: early stopping\n"
     ]
    }
   ],
   "source": [
    "# Training the model\n",
    "#model2.load_weights(\"M2-weights-improvement-23-0.70.hdf5\")\n",
    "history=model.fit(X_train,\n",
    "          Y_train,\n",
    "          batch_size=batch_size,\n",
    "          validation_split=0.1,\n",
    "          validation_data=None,\n",
    "          shuffle=True,\n",
    "          epochs=epochs,\n",
    "          callbacks=callbacks_list)\n"
   ]
  },
  {
   "cell_type": "code",
   "execution_count": 12,
   "metadata": {},
   "outputs": [
    {
     "name": "stderr",
     "output_type": "stream",
     "text": [
      "findfont: Font family ['Bitstream Vera Sans'] not found. Falling back to DejaVu Sans.\n",
      "findfont: Font family ['Bitstream Vera Sans'] not found. Falling back to DejaVu Sans.\n",
      "findfont: Font family ['Bitstream Vera Sans'] not found. Falling back to DejaVu Sans.\n"
     ]
    },
    {
     "data": {
      "image/png": "[encoded data removed]",
      "text/plain": [
       "<Figure size 864x576 with 1 Axes>"
      ]
     },
     "metadata": {
      "needs_background": "light"
     },
     "output_type": "display_data"
    },
    {
     "data": {
      "image/png": "[encoded data removed]",
      "text/plain": [
       "<Figure size 864x576 with 1 Axes>"
      ]
     },
     "metadata": {
      "needs_background": "light"
     },
     "output_type": "display_data"
    }
   ],
   "source": [
    "########画图\n",
    "import matplotlib\n",
    "import matplotlib.pyplot as plt\n",
    "from sklearn import metrics\n",
    "acc = history.history['acc']     #获取训练集准确性数据\n",
    "val_acc = history.history['val_acc']    #获取验证集准确性数据\n",
    "loss = history.history['loss']          #获取训练集错误值数据\n",
    "val_loss = history.history['val_loss']  #获取验证集错误值数据\n",
    "font = {\n",
    "    'family' : 'Bitstream Vera Sans',\n",
    "    'weight' : 'bold',\n",
    "    'size'   : 18\n",
    "}\n",
    "matplotlib.rc('font', **font)\n",
    "\n",
    "width = 12\n",
    "height = 8\n",
    "plt.figure(figsize=(width, height))\n",
    "epochs = range(1,len(acc)+1)\n",
    "plt.plot(epochs,acc,'r',label='Trainning acc',linewidth=2)     #以epochs为横坐标，以训练集准确性为纵坐标\n",
    "plt.plot(epochs,val_acc,'b--',label='Vaildation acc',linewidth=2) #以epochs为横坐标，以验证集准确性为纵坐标\n",
    "plt.legend(loc='best', shadow=True)   #绘制图例，即标明图中的线段代表何种含义\n",
    "plt.title(\"Training session's progress over epochs\")\n",
    "plt.ylabel('Training Progress (Accuracy values)')\n",
    "plt.xlabel('Training epochs')\n",
    "\n",
    "plt.figure(figsize=(width, height))\n",
    "plt.plot(epochs,loss,'r',label='Trainning loss',linewidth=2)\n",
    "plt.plot(epochs,val_loss,'b--',label='Vaildation loss',linewidth=2)\n",
    "plt.legend(loc='best', shadow=True)   #绘制图例，即标明图中的线段代表何种含义\n",
    "plt.title(\"Training session's progress over epochs\")\n",
    "plt.ylabel('Training Progress (Loss values)')\n",
    "plt.xlabel('Training epochs') \n",
    "plt.show()    #显示所有图表"
   ]
  },
  {
   "cell_type": "code",
   "execution_count": 13,
   "metadata": {},
   "outputs": [],
   "source": [
    "import itertools\n",
    "import numpy as np\n",
    "import matplotlib.pyplot as plt\n",
    "from sklearn.metrics import confusion_matrix\n",
    "plt.rcParams[\"font.family\"] = 'DejaVu Sans'\n",
    "\n",
    "def plot_confusion_matrix(cm, classes,\n",
    "                          normalize=False,\n",
    "                          title='Confusion matrix',\n",
    "                          cmap=plt.cm.Blues):\n",
    "    if normalize:\n",
    "        cm = cm.astype('float') / cm.sum(axis=1)[:, np.newaxis]\n",
    "\n",
    "    plt.imshow(cm, interpolation='nearest', cmap=cmap)\n",
    "    plt.title(title)\n",
    "    plt.colorbar()\n",
    "    tick_marks = np.arange(len(classes))\n",
    "    plt.xticks(tick_marks, classes, rotation=90)\n",
    "    plt.yticks(tick_marks, classes)\n",
    "\n",
    "    fmt = '.2f' if normalize else 'd'\n",
    "    thresh = cm.max() / 2.\n",
    "    for i, j in itertools.product(range(cm.shape[0]), range(cm.shape[1])):\n",
    "        plt.text(j, i, format(cm[i, j], fmt),\n",
    "                 horizontalalignment=\"center\",\n",
    "                 color=\"white\" if cm[i, j] > thresh else \"black\")\n",
    "\n",
    "    plt.tight_layout()\n",
    "    plt.ylabel('True label')\n",
    "    plt.xlabel('Predicted label')"
   ]
  },
  {
   "cell_type": "code",
   "execution_count": null,
   "metadata": {},
   "outputs": [
    {
     "name": "stdout",
     "output_type": "stream",
     "text": [
      "acc: 95.86%\n",
      "WARNING:tensorflow:From <ipython-input-14-d7dabfabcd32>:9: Sequential.predict_classes (from tensorflow.python.keras.engine.sequential) is deprecated and will be removed after 2021-01-01.\n",
      "Instructions for updating:\n",
      "Please use instead:* `np.argmax(model.predict(x), axis=-1)`,   if your model does multi-class classification   (e.g. if it uses a `softmax` last-layer activation).* `(model.predict(x) > 0.5).astype(\"int32\")`,   if your model does binary classification   (e.g. if it uses a `sigmoid` last-layer activation).\n"
     ]
    }
   ],
   "source": [
    "#model2.load_weights(\"M2-weights-improvement-45-0.97.hdf5\")\n",
    "model.compile(loss='sparse_categorical_crossentropy',\n",
    "              optimizer='Adam',\n",
    "              metrics=['accuracy'])\n",
    "scores = model.evaluate(X_test, Y_test, verbose=0)\n",
    "print(\"%s: %.2f%%\" % (model.metrics_names[1], scores[1]*100))\n",
    "\n",
    "# confusion matrix\n",
    "Y_pred=model.predict_classes(X_test)\n",
    "print(Y_pred.shape)\n",
    "# Y_pred=np.transpose([Y_pred])\n",
    "# print(Y_pred.shape)"
   ]
  },
  {
   "cell_type": "code",
   "execution_count": null,
   "metadata": {},
   "outputs": [],
   "source": [
    "cm_cmap=plt.cm.Greens\n",
    "cm = confusion_matrix(Y_test,Y_pred)\n",
    "\n",
    "\n",
    "print('| Confusion Matrix |')\n",
    "print('--------------------')\n",
    "print('\\n {}'.format(cm))\n",
    "class_labels=['Pre','Mid','Post']\n",
    "# plot confusin matrix\n",
    "plt.figure(figsize=(8,8))\n",
    "plt.grid(b=False)\n",
    "plot_confusion_matrix(cm, classes=class_labels, normalize=True, title='Normalized confusion matrix', cmap = cm_cmap)\n",
    "plt.show()\n",
    "class_labels=[0,1,2]\n",
    "# get classification report\n",
    "print('| Classifiction Report |')\n",
    "print('-------------------------')\n",
    "classification_report = metrics.classification_report(Y_test,Y_pred,labels =class_labels)\n",
    "# store report in results\n",
    "\n",
    "\n",
    "print(classification_report)"
   ]
  },
  {
   "cell_type": "code",
   "execution_count": null,
   "metadata": {},
   "outputs": [],
   "source": []
  }
 ],
 "metadata": {
  "anaconda-cloud": {},
  "kernelspec": {
   "display_name": "Python 3",
   "language": "python",
   "name": "python3"
  },
  "language_info": {
   "codemirror_mode": {
    "name": "ipython",
    "version": 3
   },
   "file_extension": ".py",
   "mimetype": "text/x-python",
   "name": "python",
   "nbconvert_exporter": "python",
   "pygments_lexer": "ipython3",
   "version": "3.7.9"
  }
 },
 "nbformat": 4,
 "nbformat_minor": 1
}
